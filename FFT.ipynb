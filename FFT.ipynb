{
 "cells": [
  {
   "cell_type": "markdown",
   "metadata": {},
   "source": [
    "This notebook contains code to compute the FFT of a list of data or a matrix, and the IFFT\n",
    "\n",
    "The FFT (Fast Fourier Transform) is a method to compute the DFT (Discrete Fourier Transform), which is defined as:\n",
    "\n",
    "$$\n",
    "X_k = \\sum_{n=0}^N-1 x_n \\cdot e^{-i \\tau k n / N}\n",
    "$$\n",
    "\n",
    "by splitting the input list (x) into its even and odd components (0-indexed), and then computing the DFT of each section (i.e recursively FFT until you get to single points, when the resultant DFT is just the value of the single point of data), then reconstruct using twiddle factors, defined as:\n",
    "\n",
    "$$\n",
    "e^{-i \\tau n / N}\n",
    "$$\n",
    "\n",
    "The FFT has a big-O notation of O(n log n) rather than the DFT, which has a big-O notation of O(n^2), thus making it much better for computation than the DFT without any optimisations.\n",
    "\n",
    "For the following implementation, a simple radix-2 FFT will be used, and this will require the input list/matrix to have dimensions that are a power of 2"
   ]
  },
  {
   "cell_type": "markdown",
   "metadata": {},
   "source": [
    "The following code will add and use libraries required (feel free to comment out the adding packages section if the packages are already installed)"
   ]
  },
  {
   "cell_type": "code",
   "execution_count": 1,
   "metadata": {},
   "outputs": [],
   "source": [
    "# Addition section\n",
    "# using Pkg\n",
    "\n",
    "# Pkg.add(\"Plots\")\n",
    "# Pkg.add(\"BenchmarkTools\")\n",
    "\n",
    "# Import section\n",
    "using Plots\n",
    "using BenchmarkTools"
   ]
  },
  {
   "cell_type": "markdown",
   "metadata": {},
   "source": [
    "The following code will define functions that are used for convenience when doing an FFT (1-D or 2-D)"
   ]
  },
  {
   "cell_type": "code",
   "execution_count": 2,
   "metadata": {},
   "outputs": [
    {
     "data": {
      "text/plain": [
       "convert_to_matrix (generic function with 2 methods)"
      ]
     },
     "metadata": {},
     "output_type": "display_data"
    }
   ],
   "source": [
    "# Useful for both\n",
    "\n",
    "# Checks if the integer supplied is a power of 2\n",
    "function ispow2(x::Int64)\n",
    "    return x > 0 && (x & (x - 1)) == 0\n",
    "end\n",
    "\n",
    "# Finds the next power of 2 above the supplied integer (returns the integer supplied if it is a power of 2)\n",
    "function nextpow2(x::Int64)\n",
    "    return ispow2(x) ? x : convert(Int, 2^ceil(log2(x)))\n",
    "end\n",
    "\n",
    "# 1-D FFT functions\n",
    "\n",
    "# Pad a vector to a length of a power of 2\n",
    "function pad_vector(x::Vector{T}, padder::T, l::Int64) where T <: Number\n",
    "    if l <= length(x)\n",
    "        return x\n",
    "    end\n",
    "\n",
    "    return vcat(x, [padder for i in length(x) + 1:l])\n",
    "end\n",
    "\n",
    "# 2-D FFT functions\n",
    "\n",
    "# Makes displaying a matrix much more concise and neat as all entries truncated to 2.d.p\n",
    "function format_matrix(A::Matrix{T}) where T <: Number\n",
    "    if !(T <: Real)\n",
    "        return map(x -> round(real(x), digits = 2) + im * round(imag(x), digits = 2), A)\n",
    "    else\n",
    "        return map(x -> round(x, digits = 2), A)\n",
    "    end\n",
    "end\n",
    "\n",
    "# Pads matrix so both of its dimensions are a power of 2\n",
    "function pad_matrix_for_fft(A::Matrix{Float64})\n",
    "    m, n = size(A)\n",
    "    m_padded, n_padded = nextpow2(m), nextpow2(n)\n",
    "    A_padded = zeros(Float64, m_padded, n_padded)\n",
    "    A_padded[1:m, 1:n] = A\n",
    "    return A_padded\n",
    "end\n",
    "\n",
    "# Pads a matrix to custom dimensions, useful for FFT convolution \n",
    "function pad_matrix(A::Matrix{T}, m::Int64, n::Int64) where T <: Number\n",
    "    A_padded = zeros(T, m, n)\n",
    "    A_padded[1:size(A, 1), 1:size(A, 2)] = A\n",
    "    return A_padded\n",
    "end\n",
    "\n",
    "# Returns a vector of the rows of the matrix\n",
    "function rows(matrix::Matrix)\n",
    "    m = size(matrix)[begin]\n",
    "\n",
    "    return [matrix[i, begin:end] for i in 1:m]\n",
    "end\n",
    "\n",
    "# Returns a vector of the columns of the matrix\n",
    "function columns(matrix::Matrix)\n",
    "    n = size(matrix)[end]\n",
    "\n",
    "    return [matrix[begin:end, i] for i in 1:n]\n",
    "end\n",
    "\n",
    "\n",
    "# Given a vector of rows or columns, this function will convert the vector to a matrix\n",
    "# columns is used to specify whether the vector supplied is a vector of columns (true) or a vector of rows (false)\n",
    "function convert_to_matrix(v::Vector{Vector{T}}, columns::Bool = false) where T <: Number\n",
    "    if columns\n",
    "        m, n = length(v[1]), length(v)\n",
    "        matrix = zeros(T, m, n)\n",
    "        for i in 1:n\n",
    "            matrix[begin:end, i] = v[i]\n",
    "        end\n",
    "        return matrix\n",
    "    else \n",
    "        m, n = length(v), length(v[1])\n",
    "        matrix = zeros(T, m, n)\n",
    "        for i in 1:m\n",
    "            matrix[i, begin:end] = v[i]\n",
    "        end\n",
    "        return matrix\n",
    "    end\n",
    "end"
   ]
  },
  {
   "cell_type": "markdown",
   "metadata": {},
   "source": [
    "The following functions are a 1-D FFT of a list of data, and then a 1-D IFFT of a list of data"
   ]
  },
  {
   "cell_type": "code",
   "execution_count": 3,
   "metadata": {},
   "outputs": [
    {
     "data": {
      "text/plain": [
       "ifft (generic function with 2 methods)"
      ]
     },
     "metadata": {},
     "output_type": "display_data"
    }
   ],
   "source": [
    "function fft(x::Vector{T}) where T <: Number \n",
    "    N = length(x)\n",
    "\n",
    "    if !ispow2(N)\n",
    "        throw(ArgumentError(\"Ensure list is a length of a power of 2\"))\n",
    "    elseif N == 1\n",
    "        return x\n",
    "    end\n",
    "    \n",
    "    X_even = fft(x[1:2:end])\n",
    "    X_odd = fft(x[2:2:end])\n",
    "    factors = @. exp(-2pi * im * (0:N-1) / N)\n",
    "\n",
    "    return vcat(X_even .+ factors[begin:N÷2] .* X_odd, X_even .+ factors[(1 + N÷2):end] .* X_odd)\n",
    "end\n",
    "\n",
    "function ifft(x::Vector{T}, normalise::Bool = true) where T <: Number\n",
    "    N = length(x)\n",
    "\n",
    "    if !ispow2(N)\n",
    "        throw(ArugmentError(\"Ensure list is a length of a power of 2\"))\n",
    "    elseif N == 1\n",
    "        return x\n",
    "    end\n",
    "\n",
    "    X_even = ifft(x[1:2:end])\n",
    "    X_odd = ifft(x[2:2:end])\n",
    "    factors = @. exp(2pi * im * (0:N-1) / N)\n",
    "\n",
    "    return vcat(X_even .+ factors[begin:N÷2] .* X_odd, X_even .+ factors[1 + N÷2:end] .* X_odd)  ./ (normalise ? sqrt(N) : 1)\n",
    "end"
   ]
  },
  {
   "cell_type": "markdown",
   "metadata": {},
   "source": [
    "The following functions are a 2D FFT followed by a 2D IFFT\n",
    "\n",
    "A 2D FFT is an FFT along the columns, then applying an FFT along the rows of the resultant matrix.\n",
    "\n",
    "A 2D IFFT is an IFFT along the columns, then applying an IFFT along the rows of the resultant matrix."
   ]
  },
  {
   "cell_type": "code",
   "execution_count": 4,
   "metadata": {},
   "outputs": [
    {
     "data": {
      "text/plain": [
       "ifft2 (generic function with 1 method)"
      ]
     },
     "metadata": {},
     "output_type": "display_data"
    }
   ],
   "source": [
    "function fft2(A::Matrix{T}) where T <: Number\n",
    "    m, n = size(A)\n",
    "\n",
    "    if !(ispow2(m) && ispow2(n))\n",
    "        throw(ArgumentError(\"Dimensions should be a power of 2\"))\n",
    "    end\n",
    "\n",
    "    columns_fft_matrix = convert_to_matrix([fft(i) for i in columns(A)], true)\n",
    "    return convert_to_matrix([fft(i) for i in rows(columns_fft_matrix)])\n",
    "end\n",
    "\n",
    "function ifft2(A::Matrix{T}) where T <: Number\n",
    "    m, n = size(A)\n",
    "\n",
    "    if !(ispow2(m) && ispow2(n))\n",
    "        throw(ArgumentError(\"Dimensions should be a power of 2\"))\n",
    "    end\n",
    "\n",
    "    columns_ifft_matrix = convert_to_matrix([ifft(i) for i in columns(A)], true)\n",
    "    return convert_to_matrix([ifft(i) for i in rows(A)])\n",
    "end"
   ]
  },
  {
   "cell_type": "markdown",
   "metadata": {},
   "source": [
    "The FFT and IFFT are very useful for computing convolutions, because of the convolution theorem:\n",
    "\n",
    "$$\n",
    "\\mathcal{F}\\{x(t) \\ast y(t)\\} = \\mathcal{F} \\{x(t)\\} \\cdot \\mathcal{F} \\{y(t)\\}\n",
    "$$\n",
    "\n",
    "thus meaning that:\n",
    "\n",
    "$$\n",
    "x(t) \\ast y(t) = \\mathcal{F}^{-1}\\{\\mathcal{F} \\{x(t)\\} \\cdot \\mathcal{F} \\{y(t)\\}\\}\n",
    "$$\n",
    "\n",
    "and this applies to both lists and matrices."
   ]
  },
  {
   "cell_type": "markdown",
   "metadata": {},
   "source": [
    "The following code contains functions that execute convolutions of 1-D lists and 2-D matrices respectively."
   ]
  },
  {
   "cell_type": "code",
   "execution_count": 11,
   "metadata": {},
   "outputs": [
    {
     "data": {
      "text/plain": [
       "conv2 (generic function with 1 method)"
      ]
     },
     "metadata": {},
     "output_type": "display_data"
    }
   ],
   "source": [
    "function conv(list1::Vector{T}, list2::Vector{T}) where T <: Number\n",
    "    length_required = nextpow2(length(list1) + length(list2) - 1)\n",
    "    list1_padded = pad_vector(list1, 0.0, length_required)\n",
    "    list2_padded = pad_vector(list2, 0.0, length_required)\n",
    "\n",
    "    fft_1 = fft(list1_padded)\n",
    "    fft_2 = fft(list2_padded)\n",
    "\n",
    "    return (ifft(fft_1 .* fft_2) .* (list1[begin] == 0 || list2[begin] == 0 ? 2 : 1))[begin:length(list1) + length(list2) - 1] # When one of the lists start with 0 the result seems to be half of what is expected, so this compensates for that\n",
    "end\n",
    "\n",
    "function conv2(A::Matrix{T}, B::Matrix{T}) where T <: Number\n",
    "    m, n = nextpow2(size(A)[1] + size(B)[1] - 1), nextpow2(size(A)[2] + size(B)[2] - 1)\n",
    "\n",
    "    A_padded = pad_matrix(A, m, n)\n",
    "    B_padded = pad_matrix(B, m, n)\n",
    "\n",
    "    return ifft2(fft2(A_padded) .* fft2(B_padded))\n",
    "end"
   ]
  },
  {
   "cell_type": "markdown",
   "metadata": {},
   "source": [
    "The following code will benchmark the FFT convolutions agains simply sliding a list/matrix over another, then multiplying terms and summing."
   ]
  },
  {
   "cell_type": "code",
   "execution_count": 6,
   "metadata": {},
   "outputs": [
    {
     "data": {
      "text/plain": [
       "normal_conv2 (generic function with 1 method)"
      ]
     },
     "metadata": {},
     "output_type": "display_data"
    }
   ],
   "source": [
    "function normal_conv(A::Vector{T}, B::Vector{T}) where T <: Number\n",
    "    result_length = length(A) + length(B) - 1\n",
    "    result = zeros(eltype(A), result_length)\n",
    "\n",
    "    for i in 1:length(A)\n",
    "        for j in 1:length(B)\n",
    "            result[i + j - 1] += A[i] * B[j]\n",
    "        end\n",
    "    end\n",
    "\n",
    "    return result\n",
    "end\n",
    "\n",
    "function normal_conv2(A::Matrix{T}, B::Matrix{T}) where T <: Number\n",
    "    result_rows = size(A, 1) + size(B, 1) - 1\n",
    "    result_cols = size(A, 2) + size(B, 2) - 1\n",
    "    result = zeros(eltype(A), result_rows, result_cols)\n",
    "\n",
    "    for i in 1:size(A, 1)\n",
    "        for j in 1:size(A, 2)\n",
    "            for m in 1:size(B, 1)\n",
    "                for n in 1:size(B, 2)\n",
    "                    result[i + m - 1, j + n - 1] += A[i, j] * B[m, n]\n",
    "                end\n",
    "            end\n",
    "        end\n",
    "    end\n",
    "\n",
    "    return result\n",
    "end"
   ]
  },
  {
   "cell_type": "code",
   "execution_count": 12,
   "metadata": {},
   "outputs": [
    {
     "name": "stdout",
     "output_type": "stream",
     "text": [
      "Normal 1-D convolution:   0.001028 seconds (8 allocations: 19.703 KiB)\n"
     ]
    },
    {
     "name": "stdout",
     "output_type": "stream",
     "text": [
      "FFT 1-D convolution:   0.615501 seconds (950.13 k allocations: 73.313 MiB, 2.99% gc time, 98.09% compilation time)\n"
     ]
    },
    {
     "data": {
      "text/plain": [
       "2499-element Vector{ComplexF64}:\n",
       "  2.586293270183312e-9 - 1.0783031872997786e-21im\n",
       "   4.52226017641037e-9 - 1.0279755345389584e-21im\n",
       "  5.101642832741053e-9 - 1.2041027199965512e-21im\n",
       "  4.734647762781742e-9 - 8.078454845512557e-22im\n",
       "  7.630229554540777e-9 - 1.287883696252438e-21im\n",
       " 1.0842725156249569e-8 - 8.516537174780234e-22im\n",
       "   9.25339991987503e-9 - 9.637482532334404e-22im\n",
       "  1.255826134310514e-8 - 1.0955878704511555e-21im\n",
       " 1.4758804094361069e-8 - 1.0266102069493305e-21im\n",
       " 1.3666643198973215e-8 - 1.1214096132606723e-21im\n",
       "                       ⋮\n",
       " 1.3352848375942185e-8 - 5.861721216298547e-22im\n",
       " 1.1741678471255856e-8 + 5.509764535928885e-23im\n",
       "   9.07506951237402e-9 - 6.0469639651788025e-22im\n",
       "  6.412815505646863e-9 - 7.635487532910736e-22im\n",
       " 1.0612232143267957e-8 - 1.8415450751912026e-22im\n",
       " 5.9902274630326705e-9 + 2.2121010901698766e-22im\n",
       " 2.1989086112697065e-9 - 6.537007036489921e-22im\n",
       "  3.039404048477722e-9 - 8.4284706224697345e-22im\n",
       " 3.6504415217646933e-9 - 4.245489819281823e-22im"
      ]
     },
     "metadata": {},
     "output_type": "display_data"
    }
   ],
   "source": [
    "vec1 = rand(Float64, 1000)\n",
    "vec2 = rand(Float64, 1500)\n",
    "\n",
    "@time begin\n",
    "    print(\"Normal 1-D convolution: \")\n",
    "    normal_conv(vec1, vec2)\n",
    "end\n",
    "\n",
    "@time begin\n",
    "    print(\"FFT 1-D convolution: \")\n",
    "    conv(vec1, vec2)\n",
    "end"
   ]
  },
  {
   "cell_type": "code",
   "execution_count": null,
   "metadata": {},
   "outputs": [],
   "source": [
    "mat1 = rand(Float64, 1500, 1500)\n",
    "mat2 = rand(Float64, 1000, 1000)\n",
    "\n",
    "@time begin\n",
    "    print(\"Normal 2-D convolution: \")\n",
    "    normal_conv2(mat1, mat2)\n",
    "end\n",
    "\n",
    "@time begin\n",
    "    print(\"FFT 2-D convolution: \")\n",
    "    conv(mat1, mat2)\n",
    "end"
   ]
  }
 ],
 "metadata": {
  "kernelspec": {
   "display_name": "Julia 1.10.0",
   "language": "julia",
   "name": "julia-1.10"
  },
  "language_info": {
   "file_extension": ".jl",
   "mimetype": "application/julia",
   "name": "julia",
   "version": "1.10.0"
  }
 },
 "nbformat": 4,
 "nbformat_minor": 2
}
