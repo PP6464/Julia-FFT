{
 "cells": [
  {
   "cell_type": "markdown",
   "metadata": {},
   "source": [
    "# FFT (Fast Fourier Transform)\n",
    "\n",
    "The following pieces of code will define the FFT, which uses many different algorithms to compute the DFT of a list (or a matrix, which shall be discussed later) of data, defined as:\n",
    "\n",
    "$X_k = \\sum^{N-1}_{n=0}x_n ⋅ e^{-iτkn/N}, \\;N ≜ $ size of $x$\n",
    "\n",
    "(It may also be written as: \n",
    "$X_k = \\sum^{N-1}_{n=0}x_n ⋅ ω^{kn}, \\; N$ ≜ size of $x$, $ω$ ≜ $e^{-iτ/N}$\n",
    ")\n",
    "\n",
    "depending on the size of the input list, as follows:\n",
    "\n",
    "If $N$ is a power of 2, use a radix 2 FFT, else if $N$ is a prime number, use a rader FFT, else use a bluestein FFT.\n",
    "\n",
    "These algorithms have a big $O$ notation of $O$($ N \\cdot log(N) $), whereas manually computing the DFT has a big $O$ notation of $O$($N^2$). (I.e. as $N$ is scaled by some $k$, the time complexity of FFT algortithms increase by $k \\cdot log(k)$, whereas the time complexity of a DFT increases by $k^2$).\n",
    "\n",
    "This makes using these algorithms much more obvious than manual computation of the DFT, hence why they are so useful to us.\n"
   ]
  },
  {
   "cell_type": "markdown",
   "metadata": {},
   "source": [
    "The following cell defines some starting code"
   ]
  },
  {
   "cell_type": "code",
   "execution_count": 1,
   "metadata": {},
   "outputs": [
    {
     "data": {
      "text/plain": [
       "format_display (generic function with 2 methods)"
      ]
     },
     "metadata": {},
     "output_type": "display_data"
    }
   ],
   "source": [
    "using Primes\n",
    "\n",
    "τ = 2π\n",
    "\n",
    "# Displays a vector after formatting it (makes logs easier to read)\n",
    "function format_display(x::Union{Vector{T}, Matrix{T}})::Nothing where T <: Real\n",
    "    display(map(elem -> round(elem, digits=2), x))\n",
    "end\n",
    "\n",
    "# Displays a matrix after formatting it (makes logs easier to read)\n",
    "function format_display(x::Union{Vector{T}, Matrix{T}})::Nothing where T <: Number\n",
    "    display(map(elem -> round(real(elem), digits=2) + round(imag(x), digits=2)))\n",
    "end"
   ]
  },
  {
   "cell_type": "markdown",
   "metadata": {},
   "source": [
    "## Radix 2 FFT \n",
    "\n",
    "The following code cell defines a radix 2 FFT\n",
    "\n",
    "When N is a power of 2, one can rearrange the list by reversing the indices digits (in base 2). One can then recursively compute the FFT butterfly algorithm to reconstruct the desired FFT.\n",
    "\n",
    "This can be simplified to: \n",
    "\n",
    "$FFT(x) = FFT(x_e) + (FFT(x_o) \\cdot U^{(N/2)-1}_{n=0}ω^n) \\; ⌢ \\; FFT(x_e) - (FFT(x_o) \\cdot U^{(N/2)-1}_{n=0}ω^n)$\n",
    "\n",
    "where $U_{r=a}^bf(r) = [f(a), f(a+1), ..., f(b-1), f(b)]$ and $⌢$ is concatenation.\n",
    "\n",
    "It is thus clear to see that a radix 2 FFT is recursive, and this allows for a much faster computation than manually computing a DFT.\n",
    "\n",
    "To ensure a StackOverflow error doesn't occur, we need a base case where the recursion should stop, which would be when $N = 1$, because then there will only be one element, and thus $n = 0$, and so the complex exponential component is just 1.\n",
    "\n",
    "For reasons to be made clear later (see radix 2 IFFT), ω shall be parameterised (to allow different values to be supplied). (By default, it will have a value of nothing, then will be initialised in the function)."
   ]
  },
  {
   "cell_type": "code",
   "execution_count": 8,
   "metadata": {},
   "outputs": [
    {
     "data": {
      "text/plain": [
       "radix2FFT (generic function with 2 methods)"
      ]
     },
     "metadata": {},
     "output_type": "display_data"
    }
   ],
   "source": [
    "function radix2FFT(x::Vector{T}, ω::Union{Complex{A}, Nothing} = nothing)::Vector{ComplexF64} where {T <: Number, A <: Number}\n",
    "    N = length(x)\n",
    "    \n",
    "    if N == 1\n",
    "        return x # One-point time domain spectrum is the same in frequency domain\n",
    "    end\n",
    "\n",
    "    if !ispow2(N)\n",
    "        throw(ArgumentError(\"Input list must have a length of a power of 2\"))\n",
    "    end\n",
    "\n",
    "    # ω ≜ exp(-im*τ/N) (if not already supplied, see IFFT for when different ω used) \n",
    "    if ω === nothing\n",
    "        ω = exp(-im*τ/N)\n",
    "    end    \n",
    "\n",
    "    Xₑ = radix2FFT(x[1:2:end], ω^2) # Get the even indices of x (0-indexed) and recursively FFT (Julia is 1-indexed)\n",
    "    Xₒ = radix2FFT(x[2:2:end], ω^2) # Get the odd indices of x (0-indexed) and recursively FFT (Julia is 1-indexed)\n",
    "\n",
    "    res = zeros(ComplexF64, N)\n",
    "    \n",
    "    for i ∈ 1:N÷2\n",
    "        res[i] = Xₑ[i] + Xₒ[i] * ω^(i-1) \n",
    "        res[i+N÷2] = Xₑ[i] - Xₒ[i] * ω^(i-1)\n",
    "    end\n",
    "\n",
    "    return res\n",
    "end"
   ]
  },
  {
   "cell_type": "markdown",
   "metadata": {},
   "source": [
    "## Radix 2 IFFT\n",
    "The following code cell defines a radix 2 IFFT\n",
    "\n",
    "The Inverse Discrete Fourier Transform is defined to be:\n",
    "\n",
    "$x_n = \\sum_{k=0}^{N-1}X_k ⋅ ω^{-kn/N}$\n",
    "\n",
    "Notice how this definition is very similar to that of the FFT, just that the exponent is the negative of the exponent in the FFT. This can be leveraged as follows:\n",
    "\n",
    "$IFFT(X) = FFT(X,\\; ω = e^{iτ/N})$\n",
    "\n",
    "hence why we parameterised ω when writing the code to do the FFT.\n",
    "\n",
    "We can also use this fact when making a rader_IFFT and a bluestein_IFFT (later on)."
   ]
  },
  {
   "cell_type": "code",
   "execution_count": 10,
   "metadata": {},
   "outputs": [
    {
     "data": {
      "text/plain": [
       "radix2IFFT (generic function with 2 methods)"
      ]
     },
     "metadata": {},
     "output_type": "display_data"
    }
   ],
   "source": [
    "function radix2IFFT(x::Vector{T}, ω::Union{Complex{U}, Nothing} = nothing)::Vector{ComplexF64} where {T <: Number, U <: Number}\n",
    "    N = length(x)\n",
    "\n",
    "    if N == 1\n",
    "        return x # One-point time domain spectrum is the same in frequency domain\n",
    "    end\n",
    "\n",
    "    if !ispow2(N)\n",
    "        throw(ArgumentError(\"Input list must have a length of a power of 2\"))\n",
    "    end\n",
    "\n",
    "    # Initialise root of unity to be used\n",
    "    if ω === nothing\n",
    "        ω = exp(τ*im/N)\n",
    "    end\n",
    "\n",
    "    return radix2FFT(x, 1/ω) ./ N # Supply 1/ω because exp(-iτ/N) = 1/exp(iτ/N)\n",
    "end"
   ]
  },
  {
   "cell_type": "markdown",
   "metadata": {},
   "source": [
    "## Rader FFT\n",
    "\n",
    "The Rader FFT can be used on prime length inputs because if $N$ (the length of the inputs is prime), the following is true:\n",
    "\n",
    "$(\\frac{\\mathbb{Z}}{N\\mathbb{Z}})^{\\ast} = C_{N-1}$ where $C_{N-1}$ is the cyclic group of order $N-1$.\n",
    "\n",
    "Since the DFT at k = 0 is just the sum of the input data, we can rewrite the DFT as the following:\n",
    "\n",
    "$X_k = x_0 + \\sum_{n=1}^{N-1}x_n ⋅ e^{-iτkn/N}$ where $x_0 ≜ \\sum x$\n",
    "and the indices of n are present in the cyclic group $C_{N-1}$\n",
    "\n",
    "By definition of a cyclic group, the cyclic group $C_{N-1}$ has a generator, and let this be $g$. ($g$ is a primitive root of $N$).\n",
    "\n",
    "(A primitive root, $g$, of a prime number, $p$, is an integer, $g$, such that every integer coprime to p, $a$ (i.e. gcd(p, a) = 1) ≡ $g^z$ (mod p) for some integer $z$).\n",
    "\n",
    "We can rewrite $n$ as: $g^{q_n}\\\\$\n",
    "and $k$ as: $(g^{-1})^{p_k}$ = $g^{-p_k}$\n",
    "\n",
    "$k ↦ p_k$ and $n ↦ q_n$ are bijections, since the order of $C_{N-1}$ is $N-1$ and $n,k\\in\\{0,1,2,...,N-2\\}$\n",
    "\n",
    "Thus we can rewrite the DFT as:\n",
    "\n",
    "$X_{g^{-p}} = x_0 + \\sum^{N-2}_{q=0}x_{g^q} ⋅ ω^{g^{-(p-q)}}$\n",
    "\n",
    "This is now the cyclic convolution of $u(z) = ω^{g^{-z}}$ and $v(z) = x_{g^z}$\n",
    "\n",
    "and using the convolution theorem, which states that:\n",
    "\n",
    "$\\mathcal{F}\\{x \\ast y\\} = \\mathcal{F}\\{x\\} ⋅ \\mathcal{F}\\{y\\} $\n",
    "\n",
    "To calculate the convolution of two lists, A and B, both of length M, pad them with zeros until they have a length L, where:\n",
    "\n",
    "$L ≜ 2^{⌈log_2(M)⌉}$\n",
    "\n",
    "$\\mathcal{A} = A$ (padded with L - M 0s)$\\\\$\n",
    "$\\mathcal{B} = B$ (padded with L - M 0s)\n",
    "\n",
    "then we can convolve $\\mathcal{A}$ and $\\mathcal{B}$ using a radix 2 FFT and radix 2 IFFT.\n",
    "\n",
    "To then recover $A \\ast B$, we can use:\n",
    "\n",
    "$(A \\ast B)_k = (\\mathcal{A} \\ast \\mathcal{B})_k + (\\mathcal{A} \\ast \\mathcal{B})_{k+m}$\n",
    "\n"
   ]
  },
  {
   "cell_type": "code",
   "execution_count": 12,
   "metadata": {},
   "outputs": [
    {
     "data": {
      "text/plain": [
       "5-element Vector{ComplexF64}:\n",
       "                15.0 + 0.0im\n",
       " -2.5000000000000018 + 3.4409548011779334im\n",
       " -2.4999999999999996 + 0.8122992405822653im\n",
       " -2.5000000000000004 - 0.812299240582266im\n",
       " -2.4999999999999996 - 3.4409548011779347im"
      ]
     },
     "metadata": {},
     "output_type": "display_data"
    }
   ],
   "source": [
    "# Finds the smallest primitive root of m (m must be prime)\n",
    "function primroot(m::Int64)::Int64\n",
    "    if !isprime(m)\n",
    "        error(\"Argument 'm' must be a prime number\")\n",
    "    end\n",
    "\n",
    "    if m == 2\n",
    "        return 1 # 1 is the smallest primitive root of 2\n",
    "    end\n",
    "\n",
    "    P = keys(factor(m-1)) # Get prime factors of m-1\n",
    "    for r = 2:(m-1)\n",
    "        not_found = true\n",
    "        for p in P\n",
    "            if powermod(r, div(m-1, p), m) == 1\n",
    "                not_found = false\n",
    "            end\n",
    "        end\n",
    "\n",
    "        if not_found\n",
    "            return r\n",
    "        end\n",
    "    end\n",
    "\n",
    "    return 0\n",
    "end\n",
    "\n",
    "# Successive powers of g up to m - 1, all mod m\n",
    "function sequence(g::Int64, m::Int64)::Vector{Int64}\n",
    "    return [(g^i)%m for i ∈ 0:m-2]\n",
    "end\n",
    "\n",
    "# Use to generate the entire group (𝐙/p𝐙)* and successive powers (p is prime)\n",
    "function generator(p::Int64)::Vector{Int64}\n",
    "    if !isprime(p)\n",
    "        throw(ArgumentError(\"p must be prime\"))\n",
    "    end\n",
    "\n",
    "    return primroot(p), sequence(primroot(p), p)\n",
    "end\n",
    "\n",
    "# FFT convolution of u and v, where u and v are of the same length (uses padding)\n",
    "function conv(u::Vector{T}, v::Vector{U})::Vector{Number} where {T <: Number, U <: Number}\n",
    "    if length(u) != length(v)\n",
    "        throw(ArgumentError(\"Input vectors must be of the same length\"))\n",
    "    end\n",
    "\n",
    "    N = length(u)\n",
    "    L = 2^ceil(log2(2N+1))\n",
    "    ωₗ = exp(τ*im/L)\n",
    "\n",
    "    fft_uₗ = radix2FFT(vcat(u, [0 for _ ∈ 1:L-N]), ωₗ)\n",
    "    fft_vₗ = radix2FFT(vcat(v, [0 for _ ∈ 1:L-N]), ωₗ)\n",
    "\n",
    "    # Convolution theorem: 𝓕{u(x) ∗ v(x)} = 𝓕{u(x)} . 𝓕{v(x)}\n",
    "    uₗvₗ = radix2IFFT(fft_uₗ .* fft_vₗ)\n",
    "\n",
    "    return [uₗvₗ[i] + uₗvₗ[i + N] for i in 1:N]\n",
    "end\n",
    "\n",
    "function rader_FFT(x::Vector{T}, ω::Union{Complex{A}, Nothing} = nothing)::Vector{ComplexF64} where {T <: Number, A <: Number}\n",
    "    N = length(x)\n",
    "\n",
    "    if !isprime(N)\n",
    "        throw(ArgumentError(\"List must have a prime length\"))\n",
    "    end\n",
    "\n",
    "    # ω ≜ exp(-im*τ/N) (if not already supplied, see IFFT for when different ω used) \n",
    "    if ω === nothing\n",
    "        ω = exp(-τ*im/N)\n",
    "    end\n",
    "\n",
    "    g, g_seq = generator(N) # Generate g and its successive powers\n",
    "    g⁻¹ = (g^(N-2))%N # Mulitplicative inverse of g (mod N)\n",
    "    g⁻¹_seq = sequence(g⁻¹, N) # Successive powers of g⁻¹\n",
    "\n",
    "    # u(z) = ω^g⁻ᶻ\n",
    "    u = [ω^gₙ for gₙ ∈ g⁻¹_seq]\n",
    "\n",
    "    # v(z) = x[gᶻ]\n",
    "    v = [x[gᶻ+1] for gᶻ ∈ g_seq]\n",
    "\n",
    "    uv = conv(u, v)\n",
    "\n",
    "    fft = zeros(ComplexF64, N)\n",
    "    fft[1] = sum(x) # FFT[0] = ∑ᵢ xᵢ (Julia is 1-indexed)\n",
    "\n",
    "    # FFT[g⁻ʲ] = a₀ + (u * v)ⱼ (Julia is 1-indexed)\n",
    "    for i in 1:N-1\n",
    "        fft[g⁻¹_seq[i] + 1] = x[1] + uv[i]\n",
    "    end\n",
    "\n",
    "    return fft\n",
    "end"
   ]
  },
  {
   "cell_type": "markdown",
   "metadata": {},
   "source": [
    "# Rader IFFT\n",
    "The following code cell defines a rader IFFT.\n",
    "\n",
    "From the reasoning presented for the radix 2 IFFT, we know that:\n",
    "\n",
    "$IFFT(X) = FFT(X, \\; ω = e^{iτ/N})$\n",
    "\n",
    "and here we shall leverage this fact to make a rader IFFT"
   ]
  },
  {
   "cell_type": "code",
   "execution_count": null,
   "metadata": {},
   "outputs": [],
   "source": [
    "function rader_IFFT(x::Vector{T}, ω::Union{Complex{U}, Nothing} = nothing)::Vector{ComplexF64} where {T <: Number, U <: Number}\n",
    "    N = length(x)\n",
    "\n",
    "    if !isprime(N)\n",
    "        throw(ArgumentError(\"Input list must have a prime length\"))\n",
    "    end\n",
    "\n",
    "    # Initialise ω to principal Nth root of unity if not supplied\n",
    "    if ω === nothing\n",
    "        ω = exp(τ*im/N)\n",
    "    end\n",
    "\n",
    "    return rader_FFT(x, 1/ω) ./ N\n",
    "end"
   ]
  }
 ],
 "metadata": {
  "kernelspec": {
   "display_name": "Julia 1.10.0",
   "language": "julia",
   "name": "julia-1.10"
  },
  "language_info": {
   "file_extension": ".jl",
   "mimetype": "application/julia",
   "name": "julia",
   "version": "1.10.0"
  }
 },
 "nbformat": 4,
 "nbformat_minor": 2
}
