{
 "cells": [
  {
   "cell_type": "markdown",
   "metadata": {},
   "source": [
    "This notebook contains code to compute the FFT of a list of data or a matrix, and the IFFT\n",
    "\n",
    "The FFT (Fast Fourier Transform) is a method to compute the DFT (Discrete Fourier Transform), which is defined as:\n",
    "\n",
    "$$\n",
    "X_k = \\sum_{n=0}^{N-1} x_n \\cdot e^{-i \\tau k n / N}\n",
    "$$\n",
    "\n",
    "by splitting the input list (x) into its even and odd components (0-indexed), and then computing the DFT of each section (i.e recursively FFT until you get to single points, when the resultant DFT is just the value of the single point of data), then reconstruct using twiddle factors, defined as:\n",
    "\n",
    "$$\n",
    "e^{-i \\tau n / N}\n",
    "$$\n",
    "\n",
    "The FFT has a big-O notation of O(n log n) rather than the DFT, which has a big-O notation of O(n^2), thus making it much better for computation than the DFT without any optimisations.\n",
    "\n",
    "For the following implementation, a simple radix-2 FFT will be used, and this will require the input list/matrix to have dimensions that are a power of 2"
   ]
  },
  {
   "cell_type": "markdown",
   "metadata": {},
   "source": [
    "The following code will add and use libraries required (feel free to comment out the adding packages section if the packages are already installed)"
   ]
  },
  {
   "cell_type": "code",
   "execution_count": 1,
   "metadata": {},
   "outputs": [],
   "source": [
    "# Addition section\n",
    "using Pkg\n",
    "\n",
    "# Pkg.add(\"Colors\")\n",
    "# Pkg.add(\"Plots\")\n",
    "# Pkg.add(\"BenchmarkTools\")\n",
    "# Pkg.add(\"FileIO\")\n",
    "# Pkg.add(\"ImageIO\")\n",
    "# Pkg.add(\"Images\")\n",
    "\n",
    "# Import section\n",
    "using Plots\n",
    "using BenchmarkTools\n",
    "using Images\n",
    "using FileIO\n",
    "using Colors"
   ]
  },
  {
   "cell_type": "markdown",
   "metadata": {},
   "source": [
    "The following code will define functions that are used for convenience when doing an FFT (1-D or 2-D)"
   ]
  },
  {
   "cell_type": "code",
   "execution_count": 2,
   "metadata": {},
   "outputs": [
    {
     "data": {
      "text/plain": [
       "convert_to_matrix (generic function with 2 methods)"
      ]
     },
     "metadata": {},
     "output_type": "display_data"
    }
   ],
   "source": [
    "# Useful for both\n",
    "\n",
    "# Checks if the integer supplied is a power of 2\n",
    "function ispow2(x::Int64)\n",
    "    return x > 0 && (x & (x - 1)) == 0\n",
    "end\n",
    "\n",
    "# Finds the next power of 2 above the supplied integer (returns the integer supplied if it is a power of 2)\n",
    "function nextpow2(x::Int64)\n",
    "    return ispow2(x) ? x : convert(Int, 2^ceil(log2(x)))\n",
    "end\n",
    "\n",
    "# 1-D FFT functions\n",
    "\n",
    "# Pad a vector to a length of a power of 2\n",
    "function pad_vector(x::Vector{T}, padder::T, l::Int64) where T <: Number\n",
    "    if l <= length(x)\n",
    "        return x\n",
    "    end\n",
    "\n",
    "    return vcat(x, [padder for i in length(x) + 1:l])\n",
    "end\n",
    "\n",
    "# 2-D FFT functions\n",
    "\n",
    "# Makes displaying a matrix much more concise and neat as all entries truncated to 2.d.p\n",
    "function format_matrix(A::Matrix{T}) where T <: Number\n",
    "    if !(T <: Real)\n",
    "        return map(x -> round(real(x), digits = 2) + im * round(imag(x), digits = 2), A)\n",
    "    else\n",
    "        return map(x -> round(x, digits = 2), A)\n",
    "    end\n",
    "end\n",
    "\n",
    "# Pads matrix so both of its dimensions are a power of 2\n",
    "function pad_matrix_for_fft(A::Matrix{Float64})\n",
    "    m, n = size(A)\n",
    "    m_padded, n_padded = nextpow2(m), nextpow2(n)\n",
    "    A_padded = zeros(Float64, m_padded, n_padded)\n",
    "    A_padded[1:m, 1:n] = A\n",
    "    return A_padded\n",
    "end\n",
    "\n",
    "# Pads a matrix to custom dimensions, useful for FFT convolution \n",
    "function pad_matrix(A::Matrix{T}, m::Int64, n::Int64) where T <: Number\n",
    "    A_padded = zeros(T, m, n)\n",
    "    A_padded[1:size(A, 1), 1:size(A, 2)] = A\n",
    "    return A_padded\n",
    "end\n",
    "\n",
    "# Returns a vector of the rows of the matrix\n",
    "function rows(matrix::Matrix)\n",
    "    m = size(matrix)[begin]\n",
    "\n",
    "    return [matrix[i, begin:end] for i in 1:m]\n",
    "end\n",
    "\n",
    "# Returns a vector of the columns of the matrix\n",
    "function columns(matrix::Matrix)\n",
    "    n = size(matrix)[end]\n",
    "\n",
    "    return [matrix[begin:end, i] for i in 1:n]\n",
    "end\n",
    "\n",
    "\n",
    "# Given a vector of rows or columns, this function will convert the vector to a matrix\n",
    "# columns is used to specify whether the vector supplied is a vector of columns (true) or a vector of rows (false)\n",
    "function convert_to_matrix(v::Vector{Vector{T}}, columns::Bool = false) where T <: Number\n",
    "    if columns\n",
    "        m, n = length(v[1]), length(v)\n",
    "        matrix = zeros(T, m, n)\n",
    "        for i in 1:n\n",
    "            matrix[begin:end, i] = v[i]\n",
    "        end\n",
    "        return matrix\n",
    "    else \n",
    "        m, n = length(v), length(v[1])\n",
    "        matrix = zeros(T, m, n)\n",
    "        for i in 1:m\n",
    "            matrix[i, begin:end] = v[i]\n",
    "        end\n",
    "        return matrix\n",
    "    end\n",
    "end"
   ]
  },
  {
   "cell_type": "markdown",
   "metadata": {},
   "source": [
    "The following functions are a 1-D FFT of a list of data, and then a 1-D IFFT of a list of data\n",
    "\n",
    "Because of the following, when doing a 1-D FFT with a purely real input, one can optimise the calculation of the twiddle factors\n",
    "\n",
    "$$\n",
    "X_{N - k} \n",
    "\\newline = \\sum^{N-1}_{n=0} x_n \\cdot e^{-i \\tau n (N - k) / N}\n",
    "\\newline = \\sum^{N-1}_{n=0} x_n \\cdot 1 \\cdot e^{-i \\tau n k }\n",
    "\\newline = X_k^{\\ast}\n",
    "          \n",
    "$$"
   ]
  },
  {
   "cell_type": "code",
   "execution_count": 3,
   "metadata": {},
   "outputs": [
    {
     "data": {
      "text/plain": [
       "ifft (generic function with 2 methods)"
      ]
     },
     "metadata": {},
     "output_type": "display_data"
    }
   ],
   "source": [
    "function fft(x::Vector{T}) where T <: Number \n",
    "    N = length(x)\n",
    "\n",
    "    if !ispow2(N)\n",
    "        throw(ArgumentError(\"Ensure list is a length of a power of 2\"))\n",
    "    elseif N == 1\n",
    "        return x\n",
    "    end\n",
    "    \n",
    "    X_even = fft(x[1:2:end])\n",
    "    X_odd = fft(x[2:2:end])\n",
    "    factors::Vector{ComplexF64} = [] \n",
    "    \n",
    "    if T <: Real\n",
    "        factors_first = @. exp(-2pi * im * (0:N÷2) / N)\n",
    "        factors_rest = reverse(@. conj(factors_first[2:end - 1]))\n",
    "        factors = vcat(factors_first, factors_rest)\n",
    "    else\n",
    "        factors = @. exp(-2pi * im * (0:N-1) / N)\n",
    "    end\n",
    "\n",
    "    return vcat(X_even .+ factors[begin:N÷2] .* X_odd, X_even .+ factors[(1 + N÷2):end] .* X_odd)\n",
    "end\n",
    "\n",
    "function ifft(x::Vector{T}, normalise::Bool = true) where T <: Number\n",
    "    N = length(x)\n",
    "\n",
    "    if !ispow2(N)\n",
    "        throw(ArugmentError(\"Ensure list is a length of a power of 2\"))\n",
    "    elseif N == 1\n",
    "        return x\n",
    "    end\n",
    "\n",
    "    X_even = ifft(x[1:2:end])\n",
    "    X_odd = ifft(x[2:2:end])\n",
    "    factors = @. exp(2pi * im * (0:N-1) / N)\n",
    "\n",
    "    return vcat(X_even .+ factors[begin:N÷2] .* X_odd, X_even .+ factors[1 + N÷2:end] .* X_odd)  ./ (normalise ? sqrt(N) : 1)\n",
    "end"
   ]
  },
  {
   "cell_type": "markdown",
   "metadata": {},
   "source": [
    "The following functions are a 2D FFT followed by a 2D IFFT\n",
    "\n",
    "A 2D FFT is an FFT along the columns, then applying an FFT along the rows of the resultant matrix.\n",
    "\n",
    "A 2D IFFT is an IFFT along the columns, then applying an IFFT along the rows of the resultant matrix."
   ]
  },
  {
   "cell_type": "code",
   "execution_count": 4,
   "metadata": {},
   "outputs": [
    {
     "data": {
      "text/plain": [
       "ifft2 (generic function with 1 method)"
      ]
     },
     "metadata": {},
     "output_type": "display_data"
    }
   ],
   "source": [
    "function fft2(A::Matrix{T}) where T <: Number\n",
    "    m, n = size(A)\n",
    "\n",
    "    if !(ispow2(m) && ispow2(n))\n",
    "        throw(ArgumentError(\"Dimensions should be a power of 2\"))\n",
    "    end\n",
    "\n",
    "    columns_fft_matrix = convert_to_matrix([fft(i) for i in columns(A)], true)\n",
    "    return convert_to_matrix([fft(i) for i in rows(columns_fft_matrix)])\n",
    "end\n",
    "\n",
    "function ifft2(A::Matrix{T}) where T <: Number\n",
    "    m, n = size(A)\n",
    "\n",
    "    if !(ispow2(m) && ispow2(n))\n",
    "        throw(ArgumentError(\"Dimensions should be a power of 2\"))\n",
    "    end\n",
    "\n",
    "    columns_ifft_matrix = convert_to_matrix([ifft(i) for i in columns(A)], true)\n",
    "    return convert_to_matrix([ifft(i) for i in rows(A)])\n",
    "end"
   ]
  },
  {
   "cell_type": "markdown",
   "metadata": {},
   "source": [
    "The FFT and IFFT are very useful for computing convolutions, because of the convolution theorem:\n",
    "\n",
    "$$\n",
    "\\mathcal{F}\\{x(t) \\ast y(t)\\} = \\mathcal{F} \\{x(t)\\} \\cdot \\mathcal{F} \\{y(t)\\}\n",
    "$$\n",
    "\n",
    "thus meaning that:\n",
    "\n",
    "$$\n",
    "x(t) \\ast y(t) = \\mathcal{F}^{-1}\\{\\mathcal{F} \\{x(t)\\} \\cdot \\mathcal{F} \\{y(t)\\}\\}\n",
    "$$\n",
    "\n",
    "and this applies to both lists and matrices."
   ]
  },
  {
   "cell_type": "markdown",
   "metadata": {},
   "source": [
    "The following code contains functions that execute convolutions of 1-D lists and 2-D matrices respectively."
   ]
  },
  {
   "cell_type": "code",
   "execution_count": 5,
   "metadata": {},
   "outputs": [
    {
     "data": {
      "text/plain": [
       "conv2 (generic function with 1 method)"
      ]
     },
     "metadata": {},
     "output_type": "display_data"
    }
   ],
   "source": [
    "function conv(list1::Vector{T}, list2::Vector{T}) where T <: Number\n",
    "    length_required = nextpow2(length(list1) + length(list2) - 1)\n",
    "    list1_padded = pad_vector(list1, 0.0, length_required)\n",
    "    list2_padded = pad_vector(list2, 0.0, length_required)\n",
    "\n",
    "    fft_1 = fft(list1_padded)\n",
    "    fft_2 = fft(list2_padded)\n",
    "\n",
    "    return (ifft(fft_1 .* fft_2) .* (list1[begin] == 0 || list2[begin] == 0 ? 2 : 1))[begin:length(list1) + length(list2) - 1] # When one of the lists start with 0 the result seems to be half of what is expected, so this compensates for that\n",
    "end\n",
    "\n",
    "function conv2(A::Matrix{T}, B::Matrix{T}) where T <: Number\n",
    "    m, n = nextpow2(size(A)[1] + size(B)[1] - 1), nextpow2(size(A)[2] + size(B)[2] - 1)\n",
    "\n",
    "    A_padded = pad_matrix(A, m, n)\n",
    "    B_padded = pad_matrix(B, m, n)\n",
    "\n",
    "    return ifft2(fft2(A_padded) .* fft2(B_padded))\n",
    "end"
   ]
  },
  {
   "cell_type": "markdown",
   "metadata": {},
   "source": [
    "The following code will benchmark the FFT convolutions agains simply sliding a list/matrix over another, then multiplying terms and summing."
   ]
  },
  {
   "cell_type": "code",
   "execution_count": 6,
   "metadata": {},
   "outputs": [
    {
     "data": {
      "text/plain": [
       "normal_conv2 (generic function with 1 method)"
      ]
     },
     "metadata": {},
     "output_type": "display_data"
    }
   ],
   "source": [
    "function normal_conv(A::Vector{T}, B::Vector{T}) where T <: Number\n",
    "    result_length = length(A) + length(B) - 1\n",
    "    result = zeros(T, result_length)\n",
    "\n",
    "    for i in 1:length(A)\n",
    "        for j in 1:length(B)\n",
    "            result[i + j - 1] += A[i] * B[j]\n",
    "        end\n",
    "    end\n",
    "\n",
    "    return result\n",
    "end\n",
    "\n",
    "function normal_conv2(A::Matrix{T}, B::Matrix{T}) where T <: Number\n",
    "    result_rows = size(A, 1) + size(B, 1) - 1\n",
    "    result_cols = size(A, 2) + size(B, 2) - 1\n",
    "    result = zeros(T, result_rows, result_cols)\n",
    "\n",
    "    for i in 1:size(A, 1)\n",
    "        for j in 1:size(A, 2)\n",
    "            for m in 1:size(B, 1)\n",
    "                for n in 1:size(B, 2)\n",
    "                    result[i + m - 1, j + n - 1] += A[i, j] * B[m, n]\n",
    "                end\n",
    "            end\n",
    "        end\n",
    "    end\n",
    "\n",
    "    return result\n",
    "end"
   ]
  },
  {
   "cell_type": "code",
   "execution_count": 11,
   "metadata": {},
   "outputs": [
    {
     "name": "stdout",
     "output_type": "stream",
     "text": [
      "Normal 1-D convolution:   0.439464 seconds (3 allocations: 390.688 KiB)\n",
      "FFT 1-D convolution: "
     ]
    },
    {
     "name": "stdout",
     "output_type": "stream",
     "text": [
      "  0.422156 seconds (2.95 M allocations: 467.767 MiB, 11.59% gc time)\n"
     ]
    },
    {
     "data": {
      "text/plain": [
       "49999-element Vector{ComplexF64}:\n",
       " 1.5873893183484716e-16 + 3.8240114158277904e-29im\n",
       " 3.3344786897991717e-16 + 1.201925080255857e-28im\n",
       "  3.791491748737665e-16 + 2.0064459179957105e-28im\n",
       " 3.9589511731231705e-16 + 2.383116972894059e-28im\n",
       "   5.25022048109003e-16 + 1.1798436962766845e-28im\n",
       "  6.123291594186036e-16 + 1.549923258380698e-28im\n",
       "  6.286643870401073e-16 + 1.50049844751493e-28im\n",
       "  8.487110919154499e-16 + 1.5494380891256602e-28im\n",
       "  8.618858363548412e-16 + 6.383869740010552e-29im\n",
       "  8.205312877837305e-16 + 7.484485138137228e-29im\n",
       "                        ⋮\n",
       "  4.908770228285171e-16 + 5.267843404768701e-28im\n",
       "  4.842568516623669e-16 + 6.246020118099672e-28im\n",
       "  4.921144680858693e-16 + 3.413945361433463e-28im\n",
       "  3.946010883040141e-16 + 4.838609122871399e-28im\n",
       " 2.2712499658520053e-16 + 7.625323630664803e-28im\n",
       " 2.3427952560644276e-16 + 7.98256096831239e-28im\n",
       " 2.4887676937101675e-16 + 1.1490079666855752e-28im\n",
       " 1.9225433721492177e-16 + 2.5512250175700497e-28im\n",
       " 1.3057433511748355e-16 + 7.157082754034499e-28im"
      ]
     },
     "metadata": {},
     "output_type": "display_data"
    }
   ],
   "source": [
    "vec1 = rand(Float64, 20000)\n",
    "vec2 = rand(Float64, 30000)\n",
    "\n",
    "@time begin\n",
    "    print(\"Normal 1-D convolution: \")\n",
    "    normal_conv(vec1, vec2)\n",
    "end\n",
    "\n",
    "@time begin\n",
    "    print(\"FFT 1-D convolution: \")\n",
    "    conv(vec1, vec2)\n",
    "end"
   ]
  },
  {
   "cell_type": "code",
   "execution_count": 8,
   "metadata": {},
   "outputs": [
    {
     "name": "stdout",
     "output_type": "stream",
     "text": [
      "Normal 2-D convolution: "
     ]
    },
    {
     "name": "stdout",
     "output_type": "stream",
     "text": [
      " 25.386912 seconds (12.54 k allocations: 7.690 MiB, 0.27% compilation time)\n",
      "FFT 2-D convolution: "
     ]
    },
    {
     "name": "stdout",
     "output_type": "stream",
     "text": [
      " 13.216034 seconds (156.39 M allocations: 20.620 GiB, 18.45% gc time, 7.77% compilation time)\n"
     ]
    },
    {
     "data": {
      "text/plain": [
       "2048×1024 Matrix{ComplexF64}:\n",
       "     0.647128-3.10774e-14im  …           0.0+6.59014e-15im\n",
       "    -0.252229-0.281613im        -3.55271e-15-1.42109e-14im\n",
       "   0.00546243+0.00315469im      -2.91434e-16+5.55112e-16im\n",
       "   -0.0445143+0.024983im        -8.88178e-16-8.88178e-16im\n",
       "  0.000759421+0.000432635im      1.21431e-17+7.37257e-18im\n",
       "    -0.005734-0.0106768im    …           0.0-2.22045e-16im\n",
       "  -0.00124382+0.00142955im      -1.17961e-16+8.32667e-17im\n",
       "  -0.00932629+0.00285481im      -2.77556e-16+8.32667e-17im\n",
       "  0.000226968+0.00046102im       3.46945e-18+1.21431e-17im\n",
       " -0.000431412-0.00275199im       1.38778e-17-2.77556e-17im\n",
       "             ⋮               ⋱  \n",
       " -0.000431412+0.00275199im      -1.45717e-16+2.77556e-17im\n",
       "  0.000226968-0.00046102im   …   1.38778e-17+6.07153e-18im\n",
       "  -0.00932629-0.00285481im      -1.11022e-16-2.22045e-16im\n",
       "  -0.00124382-0.00142955im       1.38778e-17-1.11022e-16im\n",
       "    -0.005734+0.0106768im       -1.66533e-16+4.44089e-16im\n",
       "  0.000759421-0.000432635im      1.21431e-17+3.03577e-18im\n",
       "   -0.0445143-0.024983im     …  -1.77636e-15-8.88178e-16im\n",
       "   0.00546243-0.00315469im       1.38778e-17-6.10623e-16im\n",
       "    -0.252229+0.281613im        -7.10543e-15+7.10543e-15im"
      ]
     },
     "metadata": {},
     "output_type": "display_data"
    }
   ],
   "source": [
    "mat1 = rand(Float64, 1000, 100)\n",
    "mat2 = rand(Float64, 500, 500)\n",
    "\n",
    "@time begin\n",
    "    print(\"Normal 2-D convolution: \")\n",
    "    normal_conv2(mat1, mat2)\n",
    "end\n",
    "\n",
    "@time begin\n",
    "    print(\"FFT 2-D convolution: \")\n",
    "    conv2(mat1, mat2)\n",
    "end"
   ]
  },
  {
   "cell_type": "markdown",
   "metadata": {},
   "source": [
    "The following code tests to see how much accuracy is lost after doing an FFT and then an IFFT of a list of data"
   ]
  },
  {
   "cell_type": "code",
   "execution_count": 9,
   "metadata": {},
   "outputs": [
    {
     "data": {
      "image/png": "[encoded data removed]",
      "image/svg+xml": [
       "<?xml version=\"1.0\" encoding=\"utf-8\"?>\n",
       "<svg xmlns=\"http://www.w3.org/2000/svg\" xmlns:xlink=\"http://www.w3.org/1999/xlink\" width=\"600\" height=\"400\" viewBox=\"0 0 2400 1600\">\n",
       "<defs>\n",
       "  <clipPath id=\"clip370\">\n",
       "    <rect x=\"0\" y=\"0\" width=\"2400\" height=\"1600\"/>\n",
       "  </clipPath>\n",
       "</defs>\n",
       "<path clip-path=\"url(#clip370)\" d=\"M0 1600 L2400 1600 L2400 0 L0 0  Z\" fill=\"#ffffff\" fill-rule=\"evenodd\" fill-opacity=\"1\"/>\n",
       "<defs>\n",
       "  <clipPath id=\"clip371\">\n",
       "    <rect x=\"480\" y=\"0\" width=\"1681\" height=\"1600\"/>\n",
       "  </clipPath>\n",
       "</defs>\n",
       "<path clip-path=\"url(#clip370)\" d=\"M193.936 1486.45 L2352.76 1486.45 L2352.76 47.2441 L193.936 47.2441  Z\" fill=\"#ffffff\" fill-rule=\"evenodd\" fill-opacity=\"1\"/>\n",
       "<defs>\n",
       "  <clipPath id=\"clip372\">\n",
       "    <rect x=\"193\" y=\"47\" width=\"2160\" height=\"1440\"/>\n",
       "  </clipPath>\n",
       "</defs>\n",
       "<polyline clip-path=\"url(#clip372)\" style=\"stroke:#000000; stroke-linecap:round; stroke-linejoin:round; stroke-width:2; stroke-opacity:0.1; fill:none\" points=\"255.035,1486.45 255.035,47.2441 \"/>\n",
       "<polyline clip-path=\"url(#clip372)\" style=\"stroke:#000000; stroke-linecap:round; stroke-linejoin:round; stroke-width:2; stroke-opacity:0.1; fill:none\" points=\"764.19,1486.45 764.19,47.2441 \"/>\n",
       "<polyline clip-path=\"url(#clip372)\" style=\"stroke:#000000; stroke-linecap:round; stroke-linejoin:round; stroke-width:2; stroke-opacity:0.1; fill:none\" points=\"1273.35,1486.45 1273.35,47.2441 \"/>\n",
       "<polyline clip-path=\"url(#clip372)\" style=\"stroke:#000000; stroke-linecap:round; stroke-linejoin:round; stroke-width:2; stroke-opacity:0.1; fill:none\" points=\"1782.5,1486.45 1782.5,47.2441 \"/>\n",
       "<polyline clip-path=\"url(#clip372)\" style=\"stroke:#000000; stroke-linecap:round; stroke-linejoin:round; stroke-width:2; stroke-opacity:0.1; fill:none\" points=\"2291.66,1486.45 2291.66,47.2441 \"/>\n",
       "<polyline clip-path=\"url(#clip370)\" style=\"stroke:#000000; stroke-linecap:round; stroke-linejoin:round; stroke-width:4; stroke-opacity:1; fill:none\" points=\"193.936,1486.45 2352.76,1486.45 \"/>\n",
       "<polyline clip-path=\"url(#clip370)\" style=\"stroke:#000000; stroke-linecap:round; stroke-linejoin:round; stroke-width:4; stroke-opacity:1; fill:none\" points=\"255.035,1486.45 255.035,1467.55 \"/>\n",
       "<polyline clip-path=\"url(#clip370)\" style=\"stroke:#000000; stroke-linecap:round; stroke-linejoin:round; stroke-width:4; stroke-opacity:1; fill:none\" points=\"764.19,1486.45 764.19,1467.55 \"/>\n",
       "<polyline clip-path=\"url(#clip370)\" style=\"stroke:#000000; stroke-linecap:round; stroke-linejoin:round; stroke-width:4; stroke-opacity:1; fill:none\" points=\"1273.35,1486.45 1273.35,1467.55 \"/>\n",
       "<polyline clip-path=\"url(#clip370)\" style=\"stroke:#000000; stroke-linecap:round; stroke-linejoin:round; stroke-width:4; stroke-opacity:1; fill:none\" points=\"1782.5,1486.45 1782.5,1467.55 \"/>\n",
       "<polyline clip-path=\"url(#clip370)\" style=\"stroke:#000000; stroke-linecap:round; stroke-linejoin:round; stroke-width:4; stroke-opacity:1; fill:none\" points=\"2291.66,1486.45 2291.66,1467.55 \"/>\n",
       "<path clip-path=\"url(#clip370)\" d=\"M232.419 1517.37 Q228.808 1517.37 226.979 1520.93 Q225.174 1524.47 225.174 1531.6 Q225.174 1538.71 226.979 1542.27 Q228.808 1545.82 232.419 1545.82 Q236.053 1545.82 237.859 1542.27 Q239.688 1538.71 239.688 1531.6 Q239.688 1524.47 237.859 1520.93 Q236.053 1517.37 232.419 1517.37 M232.419 1513.66 Q238.229 1513.66 241.285 1518.27 Q244.363 1522.85 244.363 1531.6 Q244.363 1540.33 241.285 1544.94 Q238.229 1549.52 232.419 1549.52 Q226.609 1549.52 223.53 1544.94 Q220.475 1540.33 220.475 1531.6 Q220.475 1522.85 223.53 1518.27 Q226.609 1513.66 232.419 1513.66 Z\" fill=\"#000000\" fill-rule=\"nonzero\" fill-opacity=\"1\" /><path clip-path=\"url(#clip370)\" d=\"M252.581 1542.97 L257.465 1542.97 L257.465 1548.85 L252.581 1548.85 L252.581 1542.97 Z\" fill=\"#000000\" fill-rule=\"nonzero\" fill-opacity=\"1\" /><path clip-path=\"url(#clip370)\" d=\"M277.65 1517.37 Q274.039 1517.37 272.211 1520.93 Q270.405 1524.47 270.405 1531.6 Q270.405 1538.71 272.211 1542.27 Q274.039 1545.82 277.65 1545.82 Q281.285 1545.82 283.09 1542.27 Q284.919 1538.71 284.919 1531.6 Q284.919 1524.47 283.09 1520.93 Q281.285 1517.37 277.65 1517.37 M277.65 1513.66 Q283.46 1513.66 286.516 1518.27 Q289.595 1522.85 289.595 1531.6 Q289.595 1540.33 286.516 1544.94 Q283.46 1549.52 277.65 1549.52 Q271.84 1549.52 268.761 1544.94 Q265.706 1540.33 265.706 1531.6 Q265.706 1522.85 268.761 1518.27 Q271.84 1513.66 277.65 1513.66 Z\" fill=\"#000000\" fill-rule=\"nonzero\" fill-opacity=\"1\" /><path clip-path=\"url(#clip370)\" d=\"M735.927 1544.91 L752.246 1544.91 L752.246 1548.85 L730.302 1548.85 L730.302 1544.91 Q732.964 1542.16 737.547 1537.53 Q742.153 1532.88 743.334 1531.53 Q745.579 1529.01 746.459 1527.27 Q747.362 1525.51 747.362 1523.82 Q747.362 1521.07 745.417 1519.33 Q743.496 1517.6 740.394 1517.6 Q738.195 1517.6 735.741 1518.36 Q733.311 1519.13 730.533 1520.68 L730.533 1515.95 Q733.357 1514.82 735.811 1514.24 Q738.265 1513.66 740.302 1513.66 Q745.672 1513.66 748.866 1516.35 Q752.061 1519.03 752.061 1523.52 Q752.061 1525.65 751.251 1527.57 Q750.464 1529.47 748.357 1532.07 Q747.778 1532.74 744.677 1535.95 Q741.575 1539.15 735.927 1544.91 Z\" fill=\"#000000\" fill-rule=\"nonzero\" fill-opacity=\"1\" /><path clip-path=\"url(#clip370)\" d=\"M762.061 1542.97 L766.945 1542.97 L766.945 1548.85 L762.061 1548.85 L762.061 1542.97 Z\" fill=\"#000000\" fill-rule=\"nonzero\" fill-opacity=\"1\" /><path clip-path=\"url(#clip370)\" d=\"M777.176 1514.29 L795.533 1514.29 L795.533 1518.22 L781.459 1518.22 L781.459 1526.7 Q782.477 1526.35 783.496 1526.19 Q784.514 1526 785.533 1526 Q791.32 1526 794.699 1529.17 Q798.079 1532.34 798.079 1537.76 Q798.079 1543.34 794.607 1546.44 Q791.135 1549.52 784.815 1549.52 Q782.639 1549.52 780.371 1549.15 Q778.125 1548.78 775.718 1548.04 L775.718 1543.34 Q777.801 1544.47 780.024 1545.03 Q782.246 1545.58 784.723 1545.58 Q788.727 1545.58 791.065 1543.48 Q793.403 1541.37 793.403 1537.76 Q793.403 1534.15 791.065 1532.04 Q788.727 1529.94 784.723 1529.94 Q782.848 1529.94 780.973 1530.35 Q779.121 1530.77 777.176 1531.65 L777.176 1514.29 Z\" fill=\"#000000\" fill-rule=\"nonzero\" fill-opacity=\"1\" /><path clip-path=\"url(#clip370)\" d=\"M1240.51 1514.29 L1258.87 1514.29 L1258.87 1518.22 L1244.79 1518.22 L1244.79 1526.7 Q1245.81 1526.35 1246.83 1526.19 Q1247.85 1526 1248.87 1526 Q1254.65 1526 1258.03 1529.17 Q1261.41 1532.34 1261.41 1537.76 Q1261.41 1543.34 1257.94 1546.44 Q1254.47 1549.52 1248.15 1549.52 Q1245.97 1549.52 1243.7 1549.15 Q1241.46 1548.78 1239.05 1548.04 L1239.05 1543.34 Q1241.14 1544.47 1243.36 1545.03 Q1245.58 1545.58 1248.06 1545.58 Q1252.06 1545.58 1254.4 1543.48 Q1256.74 1541.37 1256.74 1537.76 Q1256.74 1534.15 1254.4 1532.04 Q1252.06 1529.94 1248.06 1529.94 Q1246.18 1529.94 1244.31 1530.35 Q1242.45 1530.77 1240.51 1531.65 L1240.51 1514.29 Z\" fill=\"#000000\" fill-rule=\"nonzero\" fill-opacity=\"1\" /><path clip-path=\"url(#clip370)\" d=\"M1270.63 1542.97 L1275.51 1542.97 L1275.51 1548.85 L1270.63 1548.85 L1270.63 1542.97 Z\" fill=\"#000000\" fill-rule=\"nonzero\" fill-opacity=\"1\" /><path clip-path=\"url(#clip370)\" d=\"M1295.7 1517.37 Q1292.08 1517.37 1290.26 1520.93 Q1288.45 1524.47 1288.45 1531.6 Q1288.45 1538.71 1290.26 1542.27 Q1292.08 1545.82 1295.7 1545.82 Q1299.33 1545.82 1301.14 1542.27 Q1302.96 1538.71 1302.96 1531.6 Q1302.96 1524.47 1301.14 1520.93 Q1299.33 1517.37 1295.7 1517.37 M1295.7 1513.66 Q1301.51 1513.66 1304.56 1518.27 Q1307.64 1522.85 1307.64 1531.6 Q1307.64 1540.33 1304.56 1544.94 Q1301.51 1549.52 1295.7 1549.52 Q1289.89 1549.52 1286.81 1544.94 Q1283.75 1540.33 1283.75 1531.6 Q1283.75 1522.85 1286.81 1518.27 Q1289.89 1513.66 1295.7 1513.66 Z\" fill=\"#000000\" fill-rule=\"nonzero\" fill-opacity=\"1\" /><path clip-path=\"url(#clip370)\" d=\"M1748.82 1514.29 L1771.04 1514.29 L1771.04 1516.28 L1758.5 1548.85 L1753.61 1548.85 L1765.42 1518.22 L1748.82 1518.22 L1748.82 1514.29 Z\" fill=\"#000000\" fill-rule=\"nonzero\" fill-opacity=\"1\" /><path clip-path=\"url(#clip370)\" d=\"M1780.16 1542.97 L1785.05 1542.97 L1785.05 1548.85 L1780.16 1548.85 L1780.16 1542.97 Z\" fill=\"#000000\" fill-rule=\"nonzero\" fill-opacity=\"1\" /><path clip-path=\"url(#clip370)\" d=\"M1795.28 1514.29 L1813.64 1514.29 L1813.64 1518.22 L1799.56 1518.22 L1799.56 1526.7 Q1800.58 1526.35 1801.6 1526.19 Q1802.62 1526 1803.64 1526 Q1809.42 1526 1812.8 1529.17 Q1816.18 1532.34 1816.18 1537.76 Q1816.18 1543.34 1812.71 1546.44 Q1809.24 1549.52 1802.92 1549.52 Q1800.74 1549.52 1798.47 1549.15 Q1796.23 1548.78 1793.82 1548.04 L1793.82 1543.34 Q1795.9 1544.47 1798.13 1545.03 Q1800.35 1545.58 1802.83 1545.58 Q1806.83 1545.58 1809.17 1543.48 Q1811.51 1541.37 1811.51 1537.76 Q1811.51 1534.15 1809.17 1532.04 Q1806.83 1529.94 1802.83 1529.94 Q1800.95 1529.94 1799.08 1530.35 Q1797.22 1530.77 1795.28 1531.65 L1795.28 1514.29 Z\" fill=\"#000000\" fill-rule=\"nonzero\" fill-opacity=\"1\" /><path clip-path=\"url(#clip370)\" d=\"M2243.73 1544.91 L2251.37 1544.91 L2251.37 1518.55 L2243.06 1520.21 L2243.06 1515.95 L2251.32 1514.29 L2256 1514.29 L2256 1544.91 L2263.64 1544.91 L2263.64 1548.85 L2243.73 1548.85 L2243.73 1544.91 Z\" fill=\"#000000\" fill-rule=\"nonzero\" fill-opacity=\"1\" /><path clip-path=\"url(#clip370)\" d=\"M2283.08 1517.37 Q2279.47 1517.37 2277.64 1520.93 Q2275.84 1524.47 2275.84 1531.6 Q2275.84 1538.71 2277.64 1542.27 Q2279.47 1545.82 2283.08 1545.82 Q2286.72 1545.82 2288.52 1542.27 Q2290.35 1538.71 2290.35 1531.6 Q2290.35 1524.47 2288.52 1520.93 Q2286.72 1517.37 2283.08 1517.37 M2283.08 1513.66 Q2288.89 1513.66 2291.95 1518.27 Q2295.03 1522.85 2295.03 1531.6 Q2295.03 1540.33 2291.95 1544.94 Q2288.89 1549.52 2283.08 1549.52 Q2277.27 1549.52 2274.19 1544.94 Q2271.14 1540.33 2271.14 1531.6 Q2271.14 1522.85 2274.19 1518.27 Q2277.27 1513.66 2283.08 1513.66 Z\" fill=\"#000000\" fill-rule=\"nonzero\" fill-opacity=\"1\" /><path clip-path=\"url(#clip370)\" d=\"M2303.24 1542.97 L2308.13 1542.97 L2308.13 1548.85 L2303.24 1548.85 L2303.24 1542.97 Z\" fill=\"#000000\" fill-rule=\"nonzero\" fill-opacity=\"1\" /><path clip-path=\"url(#clip370)\" d=\"M2328.31 1517.37 Q2324.7 1517.37 2322.87 1520.93 Q2321.07 1524.47 2321.07 1531.6 Q2321.07 1538.71 2322.87 1542.27 Q2324.7 1545.82 2328.31 1545.82 Q2331.95 1545.82 2333.75 1542.27 Q2335.58 1538.71 2335.58 1531.6 Q2335.58 1524.47 2333.75 1520.93 Q2331.95 1517.37 2328.31 1517.37 M2328.31 1513.66 Q2334.12 1513.66 2337.18 1518.27 Q2340.26 1522.85 2340.26 1531.6 Q2340.26 1540.33 2337.18 1544.94 Q2334.12 1549.52 2328.31 1549.52 Q2322.5 1549.52 2319.42 1544.94 Q2316.37 1540.33 2316.37 1531.6 Q2316.37 1522.85 2319.42 1518.27 Q2322.5 1513.66 2328.31 1513.66 Z\" fill=\"#000000\" fill-rule=\"nonzero\" fill-opacity=\"1\" /><polyline clip-path=\"url(#clip372)\" style=\"stroke:#000000; stroke-linecap:round; stroke-linejoin:round; stroke-width:2; stroke-opacity:0.1; fill:none\" points=\"193.936,1445.76 2352.76,1445.76 \"/>\n",
       "<polyline clip-path=\"url(#clip372)\" style=\"stroke:#000000; stroke-linecap:round; stroke-linejoin:round; stroke-width:2; stroke-opacity:0.1; fill:none\" points=\"193.936,1106.32 2352.76,1106.32 \"/>\n",
       "<polyline clip-path=\"url(#clip372)\" style=\"stroke:#000000; stroke-linecap:round; stroke-linejoin:round; stroke-width:2; stroke-opacity:0.1; fill:none\" points=\"193.936,766.868 2352.76,766.868 \"/>\n",
       "<polyline clip-path=\"url(#clip372)\" style=\"stroke:#000000; stroke-linecap:round; stroke-linejoin:round; stroke-width:2; stroke-opacity:0.1; fill:none\" points=\"193.936,427.419 2352.76,427.419 \"/>\n",
       "<polyline clip-path=\"url(#clip372)\" style=\"stroke:#000000; stroke-linecap:round; stroke-linejoin:round; stroke-width:2; stroke-opacity:0.1; fill:none\" points=\"193.936,87.9708 2352.76,87.9708 \"/>\n",
       "<polyline clip-path=\"url(#clip370)\" style=\"stroke:#000000; stroke-linecap:round; stroke-linejoin:round; stroke-width:4; stroke-opacity:1; fill:none\" points=\"193.936,1486.45 193.936,47.2441 \"/>\n",
       "<polyline clip-path=\"url(#clip370)\" style=\"stroke:#000000; stroke-linecap:round; stroke-linejoin:round; stroke-width:4; stroke-opacity:1; fill:none\" points=\"193.936,1445.76 212.834,1445.76 \"/>\n",
       "<polyline clip-path=\"url(#clip370)\" style=\"stroke:#000000; stroke-linecap:round; stroke-linejoin:round; stroke-width:4; stroke-opacity:1; fill:none\" points=\"193.936,1106.32 212.834,1106.32 \"/>\n",
       "<polyline clip-path=\"url(#clip370)\" style=\"stroke:#000000; stroke-linecap:round; stroke-linejoin:round; stroke-width:4; stroke-opacity:1; fill:none\" points=\"193.936,766.868 212.834,766.868 \"/>\n",
       "<polyline clip-path=\"url(#clip370)\" style=\"stroke:#000000; stroke-linecap:round; stroke-linejoin:round; stroke-width:4; stroke-opacity:1; fill:none\" points=\"193.936,427.419 212.834,427.419 \"/>\n",
       "<polyline clip-path=\"url(#clip370)\" style=\"stroke:#000000; stroke-linecap:round; stroke-linejoin:round; stroke-width:4; stroke-opacity:1; fill:none\" points=\"193.936,87.9708 212.834,87.9708 \"/>\n",
       "<path clip-path=\"url(#clip370)\" d=\"M50.9921 1446.22 L80.6679 1446.22 L80.6679 1450.15 L50.9921 1450.15 L50.9921 1446.22 Z\" fill=\"#000000\" fill-rule=\"nonzero\" fill-opacity=\"1\" /><path clip-path=\"url(#clip370)\" d=\"M91.5706 1459.11 L99.2095 1459.11 L99.2095 1432.74 L90.8993 1434.41 L90.8993 1430.15 L99.1632 1428.48 L103.839 1428.48 L103.839 1459.11 L111.478 1459.11 L111.478 1463.04 L91.5706 1463.04 L91.5706 1459.11 Z\" fill=\"#000000\" fill-rule=\"nonzero\" fill-opacity=\"1\" /><path clip-path=\"url(#clip370)\" d=\"M120.922 1457.17 L125.807 1457.17 L125.807 1463.04 L120.922 1463.04 L120.922 1457.17 Z\" fill=\"#000000\" fill-rule=\"nonzero\" fill-opacity=\"1\" /><path clip-path=\"url(#clip370)\" d=\"M145.992 1431.56 Q142.381 1431.56 140.552 1435.13 Q138.746 1438.67 138.746 1445.8 Q138.746 1452.91 140.552 1456.47 Q142.381 1460.01 145.992 1460.01 Q149.626 1460.01 151.431 1456.47 Q153.26 1452.91 153.26 1445.8 Q153.26 1438.67 151.431 1435.13 Q149.626 1431.56 145.992 1431.56 M145.992 1427.86 Q151.802 1427.86 154.857 1432.47 Q157.936 1437.05 157.936 1445.8 Q157.936 1454.53 154.857 1459.13 Q151.802 1463.72 145.992 1463.72 Q140.181 1463.72 137.103 1459.13 Q134.047 1454.53 134.047 1445.8 Q134.047 1437.05 137.103 1432.47 Q140.181 1427.86 145.992 1427.86 Z\" fill=\"#000000\" fill-rule=\"nonzero\" fill-opacity=\"1\" /><path clip-path=\"url(#clip370)\" d=\"M51.9875 1106.77 L81.6633 1106.77 L81.6633 1110.7 L51.9875 1110.7 L51.9875 1106.77 Z\" fill=\"#000000\" fill-rule=\"nonzero\" fill-opacity=\"1\" /><path clip-path=\"url(#clip370)\" d=\"M101.756 1092.11 Q98.1447 1092.11 96.316 1095.68 Q94.5104 1099.22 94.5104 1106.35 Q94.5104 1113.46 96.316 1117.02 Q98.1447 1120.56 101.756 1120.56 Q105.39 1120.56 107.196 1117.02 Q109.024 1113.46 109.024 1106.35 Q109.024 1099.22 107.196 1095.68 Q105.39 1092.11 101.756 1092.11 M101.756 1088.41 Q107.566 1088.41 110.621 1093.02 Q113.7 1097.6 113.7 1106.35 Q113.7 1115.08 110.621 1119.68 Q107.566 1124.27 101.756 1124.27 Q95.9456 1124.27 92.8669 1119.68 Q89.8114 1115.08 89.8114 1106.35 Q89.8114 1097.6 92.8669 1093.02 Q95.9456 1088.41 101.756 1088.41 Z\" fill=\"#000000\" fill-rule=\"nonzero\" fill-opacity=\"1\" /><path clip-path=\"url(#clip370)\" d=\"M121.918 1117.72 L126.802 1117.72 L126.802 1123.6 L121.918 1123.6 L121.918 1117.72 Z\" fill=\"#000000\" fill-rule=\"nonzero\" fill-opacity=\"1\" /><path clip-path=\"url(#clip370)\" d=\"M137.033 1089.04 L155.39 1089.04 L155.39 1092.97 L141.316 1092.97 L141.316 1101.44 Q142.334 1101.1 143.353 1100.93 Q144.371 1100.75 145.39 1100.75 Q151.177 1100.75 154.556 1103.92 Q157.936 1107.09 157.936 1112.51 Q157.936 1118.09 154.464 1121.19 Q150.992 1124.27 144.672 1124.27 Q142.496 1124.27 140.228 1123.9 Q137.982 1123.53 135.575 1122.79 L135.575 1118.09 Q137.658 1119.22 139.881 1119.78 Q142.103 1120.33 144.58 1120.33 Q148.584 1120.33 150.922 1118.23 Q153.26 1116.12 153.26 1112.51 Q153.26 1108.9 150.922 1106.79 Q148.584 1104.68 144.58 1104.68 Q142.705 1104.68 140.83 1105.1 Q138.978 1105.52 137.033 1106.4 L137.033 1089.04 Z\" fill=\"#000000\" fill-rule=\"nonzero\" fill-opacity=\"1\" /><path clip-path=\"url(#clip370)\" d=\"M100.76 752.666 Q97.1493 752.666 95.3206 756.231 Q93.515 759.773 93.515 766.903 Q93.515 774.009 95.3206 777.574 Q97.1493 781.115 100.76 781.115 Q104.395 781.115 106.2 777.574 Q108.029 774.009 108.029 766.903 Q108.029 759.773 106.2 756.231 Q104.395 752.666 100.76 752.666 M100.76 748.963 Q106.571 748.963 109.626 753.569 Q112.705 758.153 112.705 766.903 Q112.705 775.629 109.626 780.236 Q106.571 784.819 100.76 784.819 Q94.9502 784.819 91.8715 780.236 Q88.816 775.629 88.816 766.903 Q88.816 758.153 91.8715 753.569 Q94.9502 748.963 100.76 748.963 Z\" fill=\"#000000\" fill-rule=\"nonzero\" fill-opacity=\"1\" /><path clip-path=\"url(#clip370)\" d=\"M120.922 778.268 L125.807 778.268 L125.807 784.148 L120.922 784.148 L120.922 778.268 Z\" fill=\"#000000\" fill-rule=\"nonzero\" fill-opacity=\"1\" /><path clip-path=\"url(#clip370)\" d=\"M145.992 752.666 Q142.381 752.666 140.552 756.231 Q138.746 759.773 138.746 766.903 Q138.746 774.009 140.552 777.574 Q142.381 781.115 145.992 781.115 Q149.626 781.115 151.431 777.574 Q153.26 774.009 153.26 766.903 Q153.26 759.773 151.431 756.231 Q149.626 752.666 145.992 752.666 M145.992 748.963 Q151.802 748.963 154.857 753.569 Q157.936 758.153 157.936 766.903 Q157.936 775.629 154.857 780.236 Q151.802 784.819 145.992 784.819 Q140.181 784.819 137.103 780.236 Q134.047 775.629 134.047 766.903 Q134.047 758.153 137.103 753.569 Q140.181 748.963 145.992 748.963 Z\" fill=\"#000000\" fill-rule=\"nonzero\" fill-opacity=\"1\" /><path clip-path=\"url(#clip370)\" d=\"M101.756 413.218 Q98.1447 413.218 96.316 416.783 Q94.5104 420.324 94.5104 427.454 Q94.5104 434.56 96.316 438.125 Q98.1447 441.667 101.756 441.667 Q105.39 441.667 107.196 438.125 Q109.024 434.56 109.024 427.454 Q109.024 420.324 107.196 416.783 Q105.39 413.218 101.756 413.218 M101.756 409.514 Q107.566 409.514 110.621 414.121 Q113.7 418.704 113.7 427.454 Q113.7 436.181 110.621 440.787 Q107.566 445.371 101.756 445.371 Q95.9456 445.371 92.8669 440.787 Q89.8114 436.181 89.8114 427.454 Q89.8114 418.704 92.8669 414.121 Q95.9456 409.514 101.756 409.514 Z\" fill=\"#000000\" fill-rule=\"nonzero\" fill-opacity=\"1\" /><path clip-path=\"url(#clip370)\" d=\"M121.918 438.82 L126.802 438.82 L126.802 444.699 L121.918 444.699 L121.918 438.82 Z\" fill=\"#000000\" fill-rule=\"nonzero\" fill-opacity=\"1\" /><path clip-path=\"url(#clip370)\" d=\"M137.033 410.139 L155.39 410.139 L155.39 414.074 L141.316 414.074 L141.316 422.547 Q142.334 422.199 143.353 422.037 Q144.371 421.852 145.39 421.852 Q151.177 421.852 154.556 425.023 Q157.936 428.195 157.936 433.611 Q157.936 439.19 154.464 442.292 Q150.992 445.371 144.672 445.371 Q142.496 445.371 140.228 445 Q137.982 444.63 135.575 443.889 L135.575 439.19 Q137.658 440.324 139.881 440.88 Q142.103 441.435 144.58 441.435 Q148.584 441.435 150.922 439.329 Q153.26 437.222 153.26 433.611 Q153.26 430 150.922 427.894 Q148.584 425.787 144.58 425.787 Q142.705 425.787 140.83 426.204 Q138.978 426.621 137.033 427.5 L137.033 410.139 Z\" fill=\"#000000\" fill-rule=\"nonzero\" fill-opacity=\"1\" /><path clip-path=\"url(#clip370)\" d=\"M91.5706 101.316 L99.2095 101.316 L99.2095 74.9501 L90.8993 76.6167 L90.8993 72.3575 L99.1632 70.6908 L103.839 70.6908 L103.839 101.316 L111.478 101.316 L111.478 105.251 L91.5706 105.251 L91.5706 101.316 Z\" fill=\"#000000\" fill-rule=\"nonzero\" fill-opacity=\"1\" /><path clip-path=\"url(#clip370)\" d=\"M120.922 99.3712 L125.807 99.3712 L125.807 105.251 L120.922 105.251 L120.922 99.3712 Z\" fill=\"#000000\" fill-rule=\"nonzero\" fill-opacity=\"1\" /><path clip-path=\"url(#clip370)\" d=\"M145.992 73.7695 Q142.381 73.7695 140.552 77.3343 Q138.746 80.876 138.746 88.0055 Q138.746 95.112 140.552 98.6768 Q142.381 102.218 145.992 102.218 Q149.626 102.218 151.431 98.6768 Q153.26 95.112 153.26 88.0055 Q153.26 80.876 151.431 77.3343 Q149.626 73.7695 145.992 73.7695 M145.992 70.0658 Q151.802 70.0658 154.857 74.6723 Q157.936 79.2556 157.936 88.0055 Q157.936 96.7324 154.857 101.339 Q151.802 105.922 145.992 105.922 Q140.181 105.922 137.103 101.339 Q134.047 96.7324 134.047 88.0055 Q134.047 79.2556 137.103 74.6723 Q140.181 70.0658 145.992 70.0658 Z\" fill=\"#000000\" fill-rule=\"nonzero\" fill-opacity=\"1\" /><polyline clip-path=\"url(#clip372)\" style=\"stroke:#009af9; stroke-linecap:round; stroke-linejoin:round; stroke-width:4; stroke-opacity:1; fill:none\" points=\"255.035,766.868 271.071,713.467 287.107,660.396 303.144,607.986 319.18,556.56 335.217,506.437 351.253,457.928 367.289,411.334 383.326,366.942 399.362,325.029 415.399,285.854 431.435,249.66 447.471,216.671 463.508,187.091 479.544,161.104 495.581,138.871 511.617,120.529 527.653,106.193 543.69,95.9506 559.726,89.8658 575.763,87.9763 591.799,90.2937 607.835,96.8038 623.872,107.466 639.908,122.215 655.945,140.958 671.981,163.58 688.017,189.94 704.054,219.876 720.09,253.201 736.127,289.709 752.163,329.174 768.199,371.351 784.236,415.98 800.272,462.782 816.309,511.47 832.345,561.739 848.381,613.28 864.418,665.773 880.454,718.892 896.491,772.308 912.527,825.691 928.563,878.709 944.6,931.034 960.636,982.342 976.673,1032.31 992.709,1080.64 1008.75,1127.03 1024.78,1171.18 1040.82,1212.82 1056.85,1251.7 1072.89,1287.58 1088.93,1320.23 1104.96,1349.46 1121,1375.07 1137.04,1396.91 1153.07,1414.85 1169.11,1428.77 1185.15,1438.6 1201.18,1444.25 1217.22,1445.72 1233.25,1442.97 1249.29,1436.04 1265.33,1424.95 1281.36,1409.79 1297.4,1390.65 1313.44,1367.64 1329.47,1340.91 1345.51,1310.62 1361.55,1276.96 1377.58,1240.14 1393.62,1200.39 1409.66,1157.95 1425.69,1113.09 1441.73,1066.08 1457.76,1017.22 1473.8,966.804 1489.84,915.151 1505.87,862.58 1521.91,809.415 1537.95,755.987 1553.98,702.627 1570.02,649.664 1586.06,597.428 1602.09,546.242 1618.13,496.422 1634.16,448.279 1650.2,402.11 1666.24,358.202 1682.27,316.825 1698.31,278.238 1714.35,242.679 1730.38,210.367 1746.42,181.505 1762.46,156.269 1778.49,134.818 1794.53,117.283 1810.57,103.774 1826.6,94.3734 1842.64,89.1404 1858.67,88.1071 1874.71,91.2799 1890.75,98.6393 1906.78,110.139 1922.82,125.709 1938.86,145.252 1954.89,168.647 1970.93,195.749 1986.97,226.391 2003,260.381 2019.04,297.51 2035.07,337.548 2051.11,380.246 2067.15,425.339 2083.18,472.549 2099.22,521.583 2115.26,572.137 2131.29,623.898 2147.33,676.545 2163.37,729.751 2179.4,783.188 2195.44,836.523 2211.48,889.426 2227.51,941.57 2243.55,992.632 2259.58,1042.29 2275.62,1090.25 2291.66,1136.2 \"/>\n",
       "<polyline clip-path=\"url(#clip372)\" style=\"stroke:#e26f46; stroke-linecap:round; stroke-linejoin:round; stroke-width:4; stroke-opacity:1; fill:none\" points=\"255.035,766.868 271.071,713.467 287.107,660.396 303.144,607.986 319.18,556.56 335.217,506.437 351.253,457.928 367.289,411.334 383.326,366.942 399.362,325.029 415.399,285.854 431.435,249.66 447.471,216.671 463.508,187.091 479.544,161.104 495.581,138.871 511.617,120.529 527.653,106.193 543.69,95.9506 559.726,89.8658 575.763,87.9763 591.799,90.2937 607.835,96.8038 623.872,107.466 639.908,122.215 655.945,140.958 671.981,163.58 688.017,189.94 704.054,219.876 720.09,253.201 736.127,289.709 752.163,329.174 768.199,371.351 784.236,415.98 800.272,462.782 816.309,511.47 832.345,561.739 848.381,613.28 864.418,665.773 880.454,718.892 896.491,772.308 912.527,825.691 928.563,878.709 944.6,931.034 960.636,982.342 976.673,1032.31 992.709,1080.64 1008.75,1127.03 1024.78,1171.18 1040.82,1212.82 1056.85,1251.7 1072.89,1287.58 1088.93,1320.23 1104.96,1349.46 1121,1375.07 1137.04,1396.91 1153.07,1414.85 1169.11,1428.77 1185.15,1438.6 1201.18,1444.25 1217.22,1445.72 1233.25,1442.97 1249.29,1436.04 1265.33,1424.95 1281.36,1409.79 1297.4,1390.65 1313.44,1367.64 1329.47,1340.91 1345.51,1310.62 1361.55,1276.96 1377.58,1240.14 1393.62,1200.39 1409.66,1157.95 1425.69,1113.09 1441.73,1066.08 1457.76,1017.22 1473.8,966.804 1489.84,915.151 1505.87,862.58 1521.91,809.415 1537.95,755.987 1553.98,702.627 1570.02,649.664 1586.06,597.428 1602.09,546.242 1618.13,496.422 1634.16,448.279 1650.2,402.11 1666.24,358.202 1682.27,316.825 1698.31,278.238 1714.35,242.679 1730.38,210.367 1746.42,181.505 1762.46,156.269 1778.49,134.818 1794.53,117.283 1810.57,103.774 1826.6,94.3734 1842.64,89.1404 1858.67,88.1071 1874.71,91.2799 1890.75,98.6393 1906.78,110.139 1922.82,125.709 1938.86,145.252 1954.89,168.647 1970.93,195.749 1986.97,226.391 2003,260.381 2019.04,297.51 2035.07,337.548 2051.11,380.246 2067.15,425.339 2083.18,472.549 2099.22,521.583 2115.26,572.137 2131.29,623.898 2147.33,676.545 2163.37,729.751 2179.4,783.188 2195.44,836.523 2211.48,889.426 2227.51,941.57 2243.55,992.632 2259.58,1042.29 2275.62,1090.25 2291.66,1136.2 \"/>\n",
       "<path clip-path=\"url(#clip370)\" d=\"M265.897 1438.47 L534.209 1438.47 L534.209 1282.95 L265.897 1282.95  Z\" fill=\"#ffffff\" fill-rule=\"evenodd\" fill-opacity=\"1\"/>\n",
       "<polyline clip-path=\"url(#clip370)\" style=\"stroke:#000000; stroke-linecap:round; stroke-linejoin:round; stroke-width:4; stroke-opacity:1; fill:none\" points=\"265.897,1438.47 534.209,1438.47 534.209,1282.95 265.897,1282.95 265.897,1438.47 \"/>\n",
       "<polyline clip-path=\"url(#clip370)\" style=\"stroke:#009af9; stroke-linecap:round; stroke-linejoin:round; stroke-width:4; stroke-opacity:1; fill:none\" points=\"289.884,1334.79 433.805,1334.79 \"/>\n",
       "<path clip-path=\"url(#clip370)\" d=\"M471.634 1354.48 Q469.829 1359.11 468.116 1360.52 Q466.403 1361.94 463.532 1361.94 L460.13 1361.94 L460.13 1358.37 L462.63 1358.37 Q464.389 1358.37 465.361 1357.54 Q466.333 1356.7 467.514 1353.6 L468.278 1351.66 L457.792 1326.15 L462.306 1326.15 L470.407 1346.43 L478.509 1326.15 L483.023 1326.15 L471.634 1354.48 Z\" fill=\"#000000\" fill-rule=\"nonzero\" fill-opacity=\"1\" /><path clip-path=\"url(#clip370)\" d=\"M490.315 1348.14 L497.954 1348.14 L497.954 1321.77 L489.643 1323.44 L489.643 1319.18 L497.907 1317.51 L502.583 1317.51 L502.583 1348.14 L510.222 1348.14 L510.222 1352.07 L490.315 1352.07 L490.315 1348.14 Z\" fill=\"#000000\" fill-rule=\"nonzero\" fill-opacity=\"1\" /><polyline clip-path=\"url(#clip370)\" style=\"stroke:#e26f46; stroke-linecap:round; stroke-linejoin:round; stroke-width:4; stroke-opacity:1; fill:none\" points=\"289.884,1386.63 433.805,1386.63 \"/>\n",
       "<path clip-path=\"url(#clip370)\" d=\"M471.634 1406.32 Q469.829 1410.95 468.116 1412.36 Q466.403 1413.78 463.532 1413.78 L460.13 1413.78 L460.13 1410.21 L462.63 1410.21 Q464.389 1410.21 465.361 1409.38 Q466.333 1408.54 467.514 1405.44 L468.278 1403.5 L457.792 1377.99 L462.306 1377.99 L470.407 1398.27 L478.509 1377.99 L483.023 1377.99 L471.634 1406.32 Z\" fill=\"#000000\" fill-rule=\"nonzero\" fill-opacity=\"1\" /><path clip-path=\"url(#clip370)\" d=\"M493.532 1399.98 L509.852 1399.98 L509.852 1403.91 L487.907 1403.91 L487.907 1399.98 Q490.569 1397.22 495.153 1392.6 Q499.759 1387.94 500.94 1386.6 Q503.185 1384.08 504.065 1382.34 Q504.967 1380.58 504.967 1378.89 Q504.967 1376.14 503.023 1374.4 Q501.102 1372.66 498 1372.66 Q495.801 1372.66 493.347 1373.43 Q490.917 1374.19 488.139 1375.74 L488.139 1371.02 Q490.963 1369.89 493.417 1369.31 Q495.87 1368.73 497.907 1368.73 Q503.278 1368.73 506.472 1371.41 Q509.666 1374.1 509.666 1378.59 Q509.666 1380.72 508.856 1382.64 Q508.069 1384.54 505.963 1387.13 Q505.384 1387.8 502.282 1391.02 Q499.18 1394.22 493.532 1399.98 Z\" fill=\"#000000\" fill-rule=\"nonzero\" fill-opacity=\"1\" /></svg>\n"
      ],
      "text/html": [
       "<?xml version=\"1.0\" encoding=\"utf-8\"?>\n",
       "<svg xmlns=\"http://www.w3.org/2000/svg\" xmlns:xlink=\"http://www.w3.org/1999/xlink\" width=\"600\" height=\"400\" viewBox=\"0 0 2400 1600\">\n",
       "<defs>\n",
       "  <clipPath id=\"clip420\">\n",
       "    <rect x=\"0\" y=\"0\" width=\"2400\" height=\"1600\"/>\n",
       "  </clipPath>\n",
       "</defs>\n",
       "<path clip-path=\"url(#clip420)\" d=\"M0 1600 L2400 1600 L2400 0 L0 0  Z\" fill=\"#ffffff\" fill-rule=\"evenodd\" fill-opacity=\"1\"/>\n",
       "<defs>\n",
       "  <clipPath id=\"clip421\">\n",
       "    <rect x=\"480\" y=\"0\" width=\"1681\" height=\"1600\"/>\n",
       "  </clipPath>\n",
       "</defs>\n",
       "<path clip-path=\"url(#clip420)\" d=\"M193.936 1486.45 L2352.76 1486.45 L2352.76 47.2441 L193.936 47.2441  Z\" fill=\"#ffffff\" fill-rule=\"evenodd\" fill-opacity=\"1\"/>\n",
       "<defs>\n",
       "  <clipPath id=\"clip422\">\n",
       "    <rect x=\"193\" y=\"47\" width=\"2160\" height=\"1440\"/>\n",
       "  </clipPath>\n",
       "</defs>\n",
       "<polyline clip-path=\"url(#clip422)\" style=\"stroke:#000000; stroke-linecap:round; stroke-linejoin:round; stroke-width:2; stroke-opacity:0.1; fill:none\" points=\"255.035,1486.45 255.035,47.2441 \"/>\n",
       "<polyline clip-path=\"url(#clip422)\" style=\"stroke:#000000; stroke-linecap:round; stroke-linejoin:round; stroke-width:2; stroke-opacity:0.1; fill:none\" points=\"764.19,1486.45 764.19,47.2441 \"/>\n",
       "<polyline clip-path=\"url(#clip422)\" style=\"stroke:#000000; stroke-linecap:round; stroke-linejoin:round; stroke-width:2; stroke-opacity:0.1; fill:none\" points=\"1273.35,1486.45 1273.35,47.2441 \"/>\n",
       "<polyline clip-path=\"url(#clip422)\" style=\"stroke:#000000; stroke-linecap:round; stroke-linejoin:round; stroke-width:2; stroke-opacity:0.1; fill:none\" points=\"1782.5,1486.45 1782.5,47.2441 \"/>\n",
       "<polyline clip-path=\"url(#clip422)\" style=\"stroke:#000000; stroke-linecap:round; stroke-linejoin:round; stroke-width:2; stroke-opacity:0.1; fill:none\" points=\"2291.66,1486.45 2291.66,47.2441 \"/>\n",
       "<polyline clip-path=\"url(#clip420)\" style=\"stroke:#000000; stroke-linecap:round; stroke-linejoin:round; stroke-width:4; stroke-opacity:1; fill:none\" points=\"193.936,1486.45 2352.76,1486.45 \"/>\n",
       "<polyline clip-path=\"url(#clip420)\" style=\"stroke:#000000; stroke-linecap:round; stroke-linejoin:round; stroke-width:4; stroke-opacity:1; fill:none\" points=\"255.035,1486.45 255.035,1467.55 \"/>\n",
       "<polyline clip-path=\"url(#clip420)\" style=\"stroke:#000000; stroke-linecap:round; stroke-linejoin:round; stroke-width:4; stroke-opacity:1; fill:none\" points=\"764.19,1486.45 764.19,1467.55 \"/>\n",
       "<polyline clip-path=\"url(#clip420)\" style=\"stroke:#000000; stroke-linecap:round; stroke-linejoin:round; stroke-width:4; stroke-opacity:1; fill:none\" points=\"1273.35,1486.45 1273.35,1467.55 \"/>\n",
       "<polyline clip-path=\"url(#clip420)\" style=\"stroke:#000000; stroke-linecap:round; stroke-linejoin:round; stroke-width:4; stroke-opacity:1; fill:none\" points=\"1782.5,1486.45 1782.5,1467.55 \"/>\n",
       "<polyline clip-path=\"url(#clip420)\" style=\"stroke:#000000; stroke-linecap:round; stroke-linejoin:round; stroke-width:4; stroke-opacity:1; fill:none\" points=\"2291.66,1486.45 2291.66,1467.55 \"/>\n",
       "<path clip-path=\"url(#clip420)\" d=\"M232.419 1517.37 Q228.808 1517.37 226.979 1520.93 Q225.174 1524.47 225.174 1531.6 Q225.174 1538.71 226.979 1542.27 Q228.808 1545.82 232.419 1545.82 Q236.053 1545.82 237.859 1542.27 Q239.688 1538.71 239.688 1531.6 Q239.688 1524.47 237.859 1520.93 Q236.053 1517.37 232.419 1517.37 M232.419 1513.66 Q238.229 1513.66 241.285 1518.27 Q244.363 1522.85 244.363 1531.6 Q244.363 1540.33 241.285 1544.94 Q238.229 1549.52 232.419 1549.52 Q226.609 1549.52 223.53 1544.94 Q220.475 1540.33 220.475 1531.6 Q220.475 1522.85 223.53 1518.27 Q226.609 1513.66 232.419 1513.66 Z\" fill=\"#000000\" fill-rule=\"nonzero\" fill-opacity=\"1\" /><path clip-path=\"url(#clip420)\" d=\"M252.581 1542.97 L257.465 1542.97 L257.465 1548.85 L252.581 1548.85 L252.581 1542.97 Z\" fill=\"#000000\" fill-rule=\"nonzero\" fill-opacity=\"1\" /><path clip-path=\"url(#clip420)\" d=\"M277.65 1517.37 Q274.039 1517.37 272.211 1520.93 Q270.405 1524.47 270.405 1531.6 Q270.405 1538.71 272.211 1542.27 Q274.039 1545.82 277.65 1545.82 Q281.285 1545.82 283.09 1542.27 Q284.919 1538.71 284.919 1531.6 Q284.919 1524.47 283.09 1520.93 Q281.285 1517.37 277.65 1517.37 M277.65 1513.66 Q283.46 1513.66 286.516 1518.27 Q289.595 1522.85 289.595 1531.6 Q289.595 1540.33 286.516 1544.94 Q283.46 1549.52 277.65 1549.52 Q271.84 1549.52 268.761 1544.94 Q265.706 1540.33 265.706 1531.6 Q265.706 1522.85 268.761 1518.27 Q271.84 1513.66 277.65 1513.66 Z\" fill=\"#000000\" fill-rule=\"nonzero\" fill-opacity=\"1\" /><path clip-path=\"url(#clip420)\" d=\"M735.927 1544.91 L752.246 1544.91 L752.246 1548.85 L730.302 1548.85 L730.302 1544.91 Q732.964 1542.16 737.547 1537.53 Q742.153 1532.88 743.334 1531.53 Q745.579 1529.01 746.459 1527.27 Q747.362 1525.51 747.362 1523.82 Q747.362 1521.07 745.417 1519.33 Q743.496 1517.6 740.394 1517.6 Q738.195 1517.6 735.741 1518.36 Q733.311 1519.13 730.533 1520.68 L730.533 1515.95 Q733.357 1514.82 735.811 1514.24 Q738.265 1513.66 740.302 1513.66 Q745.672 1513.66 748.866 1516.35 Q752.061 1519.03 752.061 1523.52 Q752.061 1525.65 751.251 1527.57 Q750.464 1529.47 748.357 1532.07 Q747.778 1532.74 744.677 1535.95 Q741.575 1539.15 735.927 1544.91 Z\" fill=\"#000000\" fill-rule=\"nonzero\" fill-opacity=\"1\" /><path clip-path=\"url(#clip420)\" d=\"M762.061 1542.97 L766.945 1542.97 L766.945 1548.85 L762.061 1548.85 L762.061 1542.97 Z\" fill=\"#000000\" fill-rule=\"nonzero\" fill-opacity=\"1\" /><path clip-path=\"url(#clip420)\" d=\"M777.176 1514.29 L795.533 1514.29 L795.533 1518.22 L781.459 1518.22 L781.459 1526.7 Q782.477 1526.35 783.496 1526.19 Q784.514 1526 785.533 1526 Q791.32 1526 794.699 1529.17 Q798.079 1532.34 798.079 1537.76 Q798.079 1543.34 794.607 1546.44 Q791.135 1549.52 784.815 1549.52 Q782.639 1549.52 780.371 1549.15 Q778.125 1548.78 775.718 1548.04 L775.718 1543.34 Q777.801 1544.47 780.024 1545.03 Q782.246 1545.58 784.723 1545.58 Q788.727 1545.58 791.065 1543.48 Q793.403 1541.37 793.403 1537.76 Q793.403 1534.15 791.065 1532.04 Q788.727 1529.94 784.723 1529.94 Q782.848 1529.94 780.973 1530.35 Q779.121 1530.77 777.176 1531.65 L777.176 1514.29 Z\" fill=\"#000000\" fill-rule=\"nonzero\" fill-opacity=\"1\" /><path clip-path=\"url(#clip420)\" d=\"M1240.51 1514.29 L1258.87 1514.29 L1258.87 1518.22 L1244.79 1518.22 L1244.79 1526.7 Q1245.81 1526.35 1246.83 1526.19 Q1247.85 1526 1248.87 1526 Q1254.65 1526 1258.03 1529.17 Q1261.41 1532.34 1261.41 1537.76 Q1261.41 1543.34 1257.94 1546.44 Q1254.47 1549.52 1248.15 1549.52 Q1245.97 1549.52 1243.7 1549.15 Q1241.46 1548.78 1239.05 1548.04 L1239.05 1543.34 Q1241.14 1544.47 1243.36 1545.03 Q1245.58 1545.58 1248.06 1545.58 Q1252.06 1545.58 1254.4 1543.48 Q1256.74 1541.37 1256.74 1537.76 Q1256.74 1534.15 1254.4 1532.04 Q1252.06 1529.94 1248.06 1529.94 Q1246.18 1529.94 1244.31 1530.35 Q1242.45 1530.77 1240.51 1531.65 L1240.51 1514.29 Z\" fill=\"#000000\" fill-rule=\"nonzero\" fill-opacity=\"1\" /><path clip-path=\"url(#clip420)\" d=\"M1270.63 1542.97 L1275.51 1542.97 L1275.51 1548.85 L1270.63 1548.85 L1270.63 1542.97 Z\" fill=\"#000000\" fill-rule=\"nonzero\" fill-opacity=\"1\" /><path clip-path=\"url(#clip420)\" d=\"M1295.7 1517.37 Q1292.08 1517.37 1290.26 1520.93 Q1288.45 1524.47 1288.45 1531.6 Q1288.45 1538.71 1290.26 1542.27 Q1292.08 1545.82 1295.7 1545.82 Q1299.33 1545.82 1301.14 1542.27 Q1302.96 1538.71 1302.96 1531.6 Q1302.96 1524.47 1301.14 1520.93 Q1299.33 1517.37 1295.7 1517.37 M1295.7 1513.66 Q1301.51 1513.66 1304.56 1518.27 Q1307.64 1522.85 1307.64 1531.6 Q1307.64 1540.33 1304.56 1544.94 Q1301.51 1549.52 1295.7 1549.52 Q1289.89 1549.52 1286.81 1544.94 Q1283.75 1540.33 1283.75 1531.6 Q1283.75 1522.85 1286.81 1518.27 Q1289.89 1513.66 1295.7 1513.66 Z\" fill=\"#000000\" fill-rule=\"nonzero\" fill-opacity=\"1\" /><path clip-path=\"url(#clip420)\" d=\"M1748.82 1514.29 L1771.04 1514.29 L1771.04 1516.28 L1758.5 1548.85 L1753.61 1548.85 L1765.42 1518.22 L1748.82 1518.22 L1748.82 1514.29 Z\" fill=\"#000000\" fill-rule=\"nonzero\" fill-opacity=\"1\" /><path clip-path=\"url(#clip420)\" d=\"M1780.16 1542.97 L1785.05 1542.97 L1785.05 1548.85 L1780.16 1548.85 L1780.16 1542.97 Z\" fill=\"#000000\" fill-rule=\"nonzero\" fill-opacity=\"1\" /><path clip-path=\"url(#clip420)\" d=\"M1795.28 1514.29 L1813.64 1514.29 L1813.64 1518.22 L1799.56 1518.22 L1799.56 1526.7 Q1800.58 1526.35 1801.6 1526.19 Q1802.62 1526 1803.64 1526 Q1809.42 1526 1812.8 1529.17 Q1816.18 1532.34 1816.18 1537.76 Q1816.18 1543.34 1812.71 1546.44 Q1809.24 1549.52 1802.92 1549.52 Q1800.74 1549.52 1798.47 1549.15 Q1796.23 1548.78 1793.82 1548.04 L1793.82 1543.34 Q1795.9 1544.47 1798.13 1545.03 Q1800.35 1545.58 1802.83 1545.58 Q1806.83 1545.58 1809.17 1543.48 Q1811.51 1541.37 1811.51 1537.76 Q1811.51 1534.15 1809.17 1532.04 Q1806.83 1529.94 1802.83 1529.94 Q1800.95 1529.94 1799.08 1530.35 Q1797.22 1530.77 1795.28 1531.65 L1795.28 1514.29 Z\" fill=\"#000000\" fill-rule=\"nonzero\" fill-opacity=\"1\" /><path clip-path=\"url(#clip420)\" d=\"M2243.73 1544.91 L2251.37 1544.91 L2251.37 1518.55 L2243.06 1520.21 L2243.06 1515.95 L2251.32 1514.29 L2256 1514.29 L2256 1544.91 L2263.64 1544.91 L2263.64 1548.85 L2243.73 1548.85 L2243.73 1544.91 Z\" fill=\"#000000\" fill-rule=\"nonzero\" fill-opacity=\"1\" /><path clip-path=\"url(#clip420)\" d=\"M2283.08 1517.37 Q2279.47 1517.37 2277.64 1520.93 Q2275.84 1524.47 2275.84 1531.6 Q2275.84 1538.71 2277.64 1542.27 Q2279.47 1545.82 2283.08 1545.82 Q2286.72 1545.82 2288.52 1542.27 Q2290.35 1538.71 2290.35 1531.6 Q2290.35 1524.47 2288.52 1520.93 Q2286.72 1517.37 2283.08 1517.37 M2283.08 1513.66 Q2288.89 1513.66 2291.95 1518.27 Q2295.03 1522.85 2295.03 1531.6 Q2295.03 1540.33 2291.95 1544.94 Q2288.89 1549.52 2283.08 1549.52 Q2277.27 1549.52 2274.19 1544.94 Q2271.14 1540.33 2271.14 1531.6 Q2271.14 1522.85 2274.19 1518.27 Q2277.27 1513.66 2283.08 1513.66 Z\" fill=\"#000000\" fill-rule=\"nonzero\" fill-opacity=\"1\" /><path clip-path=\"url(#clip420)\" d=\"M2303.24 1542.97 L2308.13 1542.97 L2308.13 1548.85 L2303.24 1548.85 L2303.24 1542.97 Z\" fill=\"#000000\" fill-rule=\"nonzero\" fill-opacity=\"1\" /><path clip-path=\"url(#clip420)\" d=\"M2328.31 1517.37 Q2324.7 1517.37 2322.87 1520.93 Q2321.07 1524.47 2321.07 1531.6 Q2321.07 1538.71 2322.87 1542.27 Q2324.7 1545.82 2328.31 1545.82 Q2331.95 1545.82 2333.75 1542.27 Q2335.58 1538.71 2335.58 1531.6 Q2335.58 1524.47 2333.75 1520.93 Q2331.95 1517.37 2328.31 1517.37 M2328.31 1513.66 Q2334.12 1513.66 2337.18 1518.27 Q2340.26 1522.85 2340.26 1531.6 Q2340.26 1540.33 2337.18 1544.94 Q2334.12 1549.52 2328.31 1549.52 Q2322.5 1549.52 2319.42 1544.94 Q2316.37 1540.33 2316.37 1531.6 Q2316.37 1522.85 2319.42 1518.27 Q2322.5 1513.66 2328.31 1513.66 Z\" fill=\"#000000\" fill-rule=\"nonzero\" fill-opacity=\"1\" /><polyline clip-path=\"url(#clip422)\" style=\"stroke:#000000; stroke-linecap:round; stroke-linejoin:round; stroke-width:2; stroke-opacity:0.1; fill:none\" points=\"193.936,1445.76 2352.76,1445.76 \"/>\n",
       "<polyline clip-path=\"url(#clip422)\" style=\"stroke:#000000; stroke-linecap:round; stroke-linejoin:round; stroke-width:2; stroke-opacity:0.1; fill:none\" points=\"193.936,1106.32 2352.76,1106.32 \"/>\n",
       "<polyline clip-path=\"url(#clip422)\" style=\"stroke:#000000; stroke-linecap:round; stroke-linejoin:round; stroke-width:2; stroke-opacity:0.1; fill:none\" points=\"193.936,766.868 2352.76,766.868 \"/>\n",
       "<polyline clip-path=\"url(#clip422)\" style=\"stroke:#000000; stroke-linecap:round; stroke-linejoin:round; stroke-width:2; stroke-opacity:0.1; fill:none\" points=\"193.936,427.419 2352.76,427.419 \"/>\n",
       "<polyline clip-path=\"url(#clip422)\" style=\"stroke:#000000; stroke-linecap:round; stroke-linejoin:round; stroke-width:2; stroke-opacity:0.1; fill:none\" points=\"193.936,87.9708 2352.76,87.9708 \"/>\n",
       "<polyline clip-path=\"url(#clip420)\" style=\"stroke:#000000; stroke-linecap:round; stroke-linejoin:round; stroke-width:4; stroke-opacity:1; fill:none\" points=\"193.936,1486.45 193.936,47.2441 \"/>\n",
       "<polyline clip-path=\"url(#clip420)\" style=\"stroke:#000000; stroke-linecap:round; stroke-linejoin:round; stroke-width:4; stroke-opacity:1; fill:none\" points=\"193.936,1445.76 212.834,1445.76 \"/>\n",
       "<polyline clip-path=\"url(#clip420)\" style=\"stroke:#000000; stroke-linecap:round; stroke-linejoin:round; stroke-width:4; stroke-opacity:1; fill:none\" points=\"193.936,1106.32 212.834,1106.32 \"/>\n",
       "<polyline clip-path=\"url(#clip420)\" style=\"stroke:#000000; stroke-linecap:round; stroke-linejoin:round; stroke-width:4; stroke-opacity:1; fill:none\" points=\"193.936,766.868 212.834,766.868 \"/>\n",
       "<polyline clip-path=\"url(#clip420)\" style=\"stroke:#000000; stroke-linecap:round; stroke-linejoin:round; stroke-width:4; stroke-opacity:1; fill:none\" points=\"193.936,427.419 212.834,427.419 \"/>\n",
       "<polyline clip-path=\"url(#clip420)\" style=\"stroke:#000000; stroke-linecap:round; stroke-linejoin:round; stroke-width:4; stroke-opacity:1; fill:none\" points=\"193.936,87.9708 212.834,87.9708 \"/>\n",
       "<path clip-path=\"url(#clip420)\" d=\"M50.9921 1446.22 L80.6679 1446.22 L80.6679 1450.15 L50.9921 1450.15 L50.9921 1446.22 Z\" fill=\"#000000\" fill-rule=\"nonzero\" fill-opacity=\"1\" /><path clip-path=\"url(#clip420)\" d=\"M91.5706 1459.11 L99.2095 1459.11 L99.2095 1432.74 L90.8993 1434.41 L90.8993 1430.15 L99.1632 1428.48 L103.839 1428.48 L103.839 1459.11 L111.478 1459.11 L111.478 1463.04 L91.5706 1463.04 L91.5706 1459.11 Z\" fill=\"#000000\" fill-rule=\"nonzero\" fill-opacity=\"1\" /><path clip-path=\"url(#clip420)\" d=\"M120.922 1457.17 L125.807 1457.17 L125.807 1463.04 L120.922 1463.04 L120.922 1457.17 Z\" fill=\"#000000\" fill-rule=\"nonzero\" fill-opacity=\"1\" /><path clip-path=\"url(#clip420)\" d=\"M145.992 1431.56 Q142.381 1431.56 140.552 1435.13 Q138.746 1438.67 138.746 1445.8 Q138.746 1452.91 140.552 1456.47 Q142.381 1460.01 145.992 1460.01 Q149.626 1460.01 151.431 1456.47 Q153.26 1452.91 153.26 1445.8 Q153.26 1438.67 151.431 1435.13 Q149.626 1431.56 145.992 1431.56 M145.992 1427.86 Q151.802 1427.86 154.857 1432.47 Q157.936 1437.05 157.936 1445.8 Q157.936 1454.53 154.857 1459.13 Q151.802 1463.72 145.992 1463.72 Q140.181 1463.72 137.103 1459.13 Q134.047 1454.53 134.047 1445.8 Q134.047 1437.05 137.103 1432.47 Q140.181 1427.86 145.992 1427.86 Z\" fill=\"#000000\" fill-rule=\"nonzero\" fill-opacity=\"1\" /><path clip-path=\"url(#clip420)\" d=\"M51.9875 1106.77 L81.6633 1106.77 L81.6633 1110.7 L51.9875 1110.7 L51.9875 1106.77 Z\" fill=\"#000000\" fill-rule=\"nonzero\" fill-opacity=\"1\" /><path clip-path=\"url(#clip420)\" d=\"M101.756 1092.11 Q98.1447 1092.11 96.316 1095.68 Q94.5104 1099.22 94.5104 1106.35 Q94.5104 1113.46 96.316 1117.02 Q98.1447 1120.56 101.756 1120.56 Q105.39 1120.56 107.196 1117.02 Q109.024 1113.46 109.024 1106.35 Q109.024 1099.22 107.196 1095.68 Q105.39 1092.11 101.756 1092.11 M101.756 1088.41 Q107.566 1088.41 110.621 1093.02 Q113.7 1097.6 113.7 1106.35 Q113.7 1115.08 110.621 1119.68 Q107.566 1124.27 101.756 1124.27 Q95.9456 1124.27 92.8669 1119.68 Q89.8114 1115.08 89.8114 1106.35 Q89.8114 1097.6 92.8669 1093.02 Q95.9456 1088.41 101.756 1088.41 Z\" fill=\"#000000\" fill-rule=\"nonzero\" fill-opacity=\"1\" /><path clip-path=\"url(#clip420)\" d=\"M121.918 1117.72 L126.802 1117.72 L126.802 1123.6 L121.918 1123.6 L121.918 1117.72 Z\" fill=\"#000000\" fill-rule=\"nonzero\" fill-opacity=\"1\" /><path clip-path=\"url(#clip420)\" d=\"M137.033 1089.04 L155.39 1089.04 L155.39 1092.97 L141.316 1092.97 L141.316 1101.44 Q142.334 1101.1 143.353 1100.93 Q144.371 1100.75 145.39 1100.75 Q151.177 1100.75 154.556 1103.92 Q157.936 1107.09 157.936 1112.51 Q157.936 1118.09 154.464 1121.19 Q150.992 1124.27 144.672 1124.27 Q142.496 1124.27 140.228 1123.9 Q137.982 1123.53 135.575 1122.79 L135.575 1118.09 Q137.658 1119.22 139.881 1119.78 Q142.103 1120.33 144.58 1120.33 Q148.584 1120.33 150.922 1118.23 Q153.26 1116.12 153.26 1112.51 Q153.26 1108.9 150.922 1106.79 Q148.584 1104.68 144.58 1104.68 Q142.705 1104.68 140.83 1105.1 Q138.978 1105.52 137.033 1106.4 L137.033 1089.04 Z\" fill=\"#000000\" fill-rule=\"nonzero\" fill-opacity=\"1\" /><path clip-path=\"url(#clip420)\" d=\"M100.76 752.666 Q97.1493 752.666 95.3206 756.231 Q93.515 759.773 93.515 766.903 Q93.515 774.009 95.3206 777.574 Q97.1493 781.115 100.76 781.115 Q104.395 781.115 106.2 777.574 Q108.029 774.009 108.029 766.903 Q108.029 759.773 106.2 756.231 Q104.395 752.666 100.76 752.666 M100.76 748.963 Q106.571 748.963 109.626 753.569 Q112.705 758.153 112.705 766.903 Q112.705 775.629 109.626 780.236 Q106.571 784.819 100.76 784.819 Q94.9502 784.819 91.8715 780.236 Q88.816 775.629 88.816 766.903 Q88.816 758.153 91.8715 753.569 Q94.9502 748.963 100.76 748.963 Z\" fill=\"#000000\" fill-rule=\"nonzero\" fill-opacity=\"1\" /><path clip-path=\"url(#clip420)\" d=\"M120.922 778.268 L125.807 778.268 L125.807 784.148 L120.922 784.148 L120.922 778.268 Z\" fill=\"#000000\" fill-rule=\"nonzero\" fill-opacity=\"1\" /><path clip-path=\"url(#clip420)\" d=\"M145.992 752.666 Q142.381 752.666 140.552 756.231 Q138.746 759.773 138.746 766.903 Q138.746 774.009 140.552 777.574 Q142.381 781.115 145.992 781.115 Q149.626 781.115 151.431 777.574 Q153.26 774.009 153.26 766.903 Q153.26 759.773 151.431 756.231 Q149.626 752.666 145.992 752.666 M145.992 748.963 Q151.802 748.963 154.857 753.569 Q157.936 758.153 157.936 766.903 Q157.936 775.629 154.857 780.236 Q151.802 784.819 145.992 784.819 Q140.181 784.819 137.103 780.236 Q134.047 775.629 134.047 766.903 Q134.047 758.153 137.103 753.569 Q140.181 748.963 145.992 748.963 Z\" fill=\"#000000\" fill-rule=\"nonzero\" fill-opacity=\"1\" /><path clip-path=\"url(#clip420)\" d=\"M101.756 413.218 Q98.1447 413.218 96.316 416.783 Q94.5104 420.324 94.5104 427.454 Q94.5104 434.56 96.316 438.125 Q98.1447 441.667 101.756 441.667 Q105.39 441.667 107.196 438.125 Q109.024 434.56 109.024 427.454 Q109.024 420.324 107.196 416.783 Q105.39 413.218 101.756 413.218 M101.756 409.514 Q107.566 409.514 110.621 414.121 Q113.7 418.704 113.7 427.454 Q113.7 436.181 110.621 440.787 Q107.566 445.371 101.756 445.371 Q95.9456 445.371 92.8669 440.787 Q89.8114 436.181 89.8114 427.454 Q89.8114 418.704 92.8669 414.121 Q95.9456 409.514 101.756 409.514 Z\" fill=\"#000000\" fill-rule=\"nonzero\" fill-opacity=\"1\" /><path clip-path=\"url(#clip420)\" d=\"M121.918 438.82 L126.802 438.82 L126.802 444.699 L121.918 444.699 L121.918 438.82 Z\" fill=\"#000000\" fill-rule=\"nonzero\" fill-opacity=\"1\" /><path clip-path=\"url(#clip420)\" d=\"M137.033 410.139 L155.39 410.139 L155.39 414.074 L141.316 414.074 L141.316 422.547 Q142.334 422.199 143.353 422.037 Q144.371 421.852 145.39 421.852 Q151.177 421.852 154.556 425.023 Q157.936 428.195 157.936 433.611 Q157.936 439.19 154.464 442.292 Q150.992 445.371 144.672 445.371 Q142.496 445.371 140.228 445 Q137.982 444.63 135.575 443.889 L135.575 439.19 Q137.658 440.324 139.881 440.88 Q142.103 441.435 144.58 441.435 Q148.584 441.435 150.922 439.329 Q153.26 437.222 153.26 433.611 Q153.26 430 150.922 427.894 Q148.584 425.787 144.58 425.787 Q142.705 425.787 140.83 426.204 Q138.978 426.621 137.033 427.5 L137.033 410.139 Z\" fill=\"#000000\" fill-rule=\"nonzero\" fill-opacity=\"1\" /><path clip-path=\"url(#clip420)\" d=\"M91.5706 101.316 L99.2095 101.316 L99.2095 74.9501 L90.8993 76.6167 L90.8993 72.3575 L99.1632 70.6908 L103.839 70.6908 L103.839 101.316 L111.478 101.316 L111.478 105.251 L91.5706 105.251 L91.5706 101.316 Z\" fill=\"#000000\" fill-rule=\"nonzero\" fill-opacity=\"1\" /><path clip-path=\"url(#clip420)\" d=\"M120.922 99.3712 L125.807 99.3712 L125.807 105.251 L120.922 105.251 L120.922 99.3712 Z\" fill=\"#000000\" fill-rule=\"nonzero\" fill-opacity=\"1\" /><path clip-path=\"url(#clip420)\" d=\"M145.992 73.7695 Q142.381 73.7695 140.552 77.3343 Q138.746 80.876 138.746 88.0055 Q138.746 95.112 140.552 98.6768 Q142.381 102.218 145.992 102.218 Q149.626 102.218 151.431 98.6768 Q153.26 95.112 153.26 88.0055 Q153.26 80.876 151.431 77.3343 Q149.626 73.7695 145.992 73.7695 M145.992 70.0658 Q151.802 70.0658 154.857 74.6723 Q157.936 79.2556 157.936 88.0055 Q157.936 96.7324 154.857 101.339 Q151.802 105.922 145.992 105.922 Q140.181 105.922 137.103 101.339 Q134.047 96.7324 134.047 88.0055 Q134.047 79.2556 137.103 74.6723 Q140.181 70.0658 145.992 70.0658 Z\" fill=\"#000000\" fill-rule=\"nonzero\" fill-opacity=\"1\" /><polyline clip-path=\"url(#clip422)\" style=\"stroke:#009af9; stroke-linecap:round; stroke-linejoin:round; stroke-width:4; stroke-opacity:1; fill:none\" points=\"255.035,766.868 271.071,713.467 287.107,660.396 303.144,607.986 319.18,556.56 335.217,506.437 351.253,457.928 367.289,411.334 383.326,366.942 399.362,325.029 415.399,285.854 431.435,249.66 447.471,216.671 463.508,187.091 479.544,161.104 495.581,138.871 511.617,120.529 527.653,106.193 543.69,95.9506 559.726,89.8658 575.763,87.9763 591.799,90.2937 607.835,96.8038 623.872,107.466 639.908,122.215 655.945,140.958 671.981,163.58 688.017,189.94 704.054,219.876 720.09,253.201 736.127,289.709 752.163,329.174 768.199,371.351 784.236,415.98 800.272,462.782 816.309,511.47 832.345,561.739 848.381,613.28 864.418,665.773 880.454,718.892 896.491,772.308 912.527,825.691 928.563,878.709 944.6,931.034 960.636,982.342 976.673,1032.31 992.709,1080.64 1008.75,1127.03 1024.78,1171.18 1040.82,1212.82 1056.85,1251.7 1072.89,1287.58 1088.93,1320.23 1104.96,1349.46 1121,1375.07 1137.04,1396.91 1153.07,1414.85 1169.11,1428.77 1185.15,1438.6 1201.18,1444.25 1217.22,1445.72 1233.25,1442.97 1249.29,1436.04 1265.33,1424.95 1281.36,1409.79 1297.4,1390.65 1313.44,1367.64 1329.47,1340.91 1345.51,1310.62 1361.55,1276.96 1377.58,1240.14 1393.62,1200.39 1409.66,1157.95 1425.69,1113.09 1441.73,1066.08 1457.76,1017.22 1473.8,966.804 1489.84,915.151 1505.87,862.58 1521.91,809.415 1537.95,755.987 1553.98,702.627 1570.02,649.664 1586.06,597.428 1602.09,546.242 1618.13,496.422 1634.16,448.279 1650.2,402.11 1666.24,358.202 1682.27,316.825 1698.31,278.238 1714.35,242.679 1730.38,210.367 1746.42,181.505 1762.46,156.269 1778.49,134.818 1794.53,117.283 1810.57,103.774 1826.6,94.3734 1842.64,89.1404 1858.67,88.1071 1874.71,91.2799 1890.75,98.6393 1906.78,110.139 1922.82,125.709 1938.86,145.252 1954.89,168.647 1970.93,195.749 1986.97,226.391 2003,260.381 2019.04,297.51 2035.07,337.548 2051.11,380.246 2067.15,425.339 2083.18,472.549 2099.22,521.583 2115.26,572.137 2131.29,623.898 2147.33,676.545 2163.37,729.751 2179.4,783.188 2195.44,836.523 2211.48,889.426 2227.51,941.57 2243.55,992.632 2259.58,1042.29 2275.62,1090.25 2291.66,1136.2 \"/>\n",
       "<polyline clip-path=\"url(#clip422)\" style=\"stroke:#e26f46; stroke-linecap:round; stroke-linejoin:round; stroke-width:4; stroke-opacity:1; fill:none\" points=\"255.035,766.868 271.071,713.467 287.107,660.396 303.144,607.986 319.18,556.56 335.217,506.437 351.253,457.928 367.289,411.334 383.326,366.942 399.362,325.029 415.399,285.854 431.435,249.66 447.471,216.671 463.508,187.091 479.544,161.104 495.581,138.871 511.617,120.529 527.653,106.193 543.69,95.9506 559.726,89.8658 575.763,87.9763 591.799,90.2937 607.835,96.8038 623.872,107.466 639.908,122.215 655.945,140.958 671.981,163.58 688.017,189.94 704.054,219.876 720.09,253.201 736.127,289.709 752.163,329.174 768.199,371.351 784.236,415.98 800.272,462.782 816.309,511.47 832.345,561.739 848.381,613.28 864.418,665.773 880.454,718.892 896.491,772.308 912.527,825.691 928.563,878.709 944.6,931.034 960.636,982.342 976.673,1032.31 992.709,1080.64 1008.75,1127.03 1024.78,1171.18 1040.82,1212.82 1056.85,1251.7 1072.89,1287.58 1088.93,1320.23 1104.96,1349.46 1121,1375.07 1137.04,1396.91 1153.07,1414.85 1169.11,1428.77 1185.15,1438.6 1201.18,1444.25 1217.22,1445.72 1233.25,1442.97 1249.29,1436.04 1265.33,1424.95 1281.36,1409.79 1297.4,1390.65 1313.44,1367.64 1329.47,1340.91 1345.51,1310.62 1361.55,1276.96 1377.58,1240.14 1393.62,1200.39 1409.66,1157.95 1425.69,1113.09 1441.73,1066.08 1457.76,1017.22 1473.8,966.804 1489.84,915.151 1505.87,862.58 1521.91,809.415 1537.95,755.987 1553.98,702.627 1570.02,649.664 1586.06,597.428 1602.09,546.242 1618.13,496.422 1634.16,448.279 1650.2,402.11 1666.24,358.202 1682.27,316.825 1698.31,278.238 1714.35,242.679 1730.38,210.367 1746.42,181.505 1762.46,156.269 1778.49,134.818 1794.53,117.283 1810.57,103.774 1826.6,94.3734 1842.64,89.1404 1858.67,88.1071 1874.71,91.2799 1890.75,98.6393 1906.78,110.139 1922.82,125.709 1938.86,145.252 1954.89,168.647 1970.93,195.749 1986.97,226.391 2003,260.381 2019.04,297.51 2035.07,337.548 2051.11,380.246 2067.15,425.339 2083.18,472.549 2099.22,521.583 2115.26,572.137 2131.29,623.898 2147.33,676.545 2163.37,729.751 2179.4,783.188 2195.44,836.523 2211.48,889.426 2227.51,941.57 2243.55,992.632 2259.58,1042.29 2275.62,1090.25 2291.66,1136.2 \"/>\n",
       "<path clip-path=\"url(#clip420)\" d=\"M265.897 1438.47 L534.209 1438.47 L534.209 1282.95 L265.897 1282.95  Z\" fill=\"#ffffff\" fill-rule=\"evenodd\" fill-opacity=\"1\"/>\n",
       "<polyline clip-path=\"url(#clip420)\" style=\"stroke:#000000; stroke-linecap:round; stroke-linejoin:round; stroke-width:4; stroke-opacity:1; fill:none\" points=\"265.897,1438.47 534.209,1438.47 534.209,1282.95 265.897,1282.95 265.897,1438.47 \"/>\n",
       "<polyline clip-path=\"url(#clip420)\" style=\"stroke:#009af9; stroke-linecap:round; stroke-linejoin:round; stroke-width:4; stroke-opacity:1; fill:none\" points=\"289.884,1334.79 433.805,1334.79 \"/>\n",
       "<path clip-path=\"url(#clip420)\" d=\"M471.634 1354.48 Q469.829 1359.11 468.116 1360.52 Q466.403 1361.94 463.532 1361.94 L460.13 1361.94 L460.13 1358.37 L462.63 1358.37 Q464.389 1358.37 465.361 1357.54 Q466.333 1356.7 467.514 1353.6 L468.278 1351.66 L457.792 1326.15 L462.306 1326.15 L470.407 1346.43 L478.509 1326.15 L483.023 1326.15 L471.634 1354.48 Z\" fill=\"#000000\" fill-rule=\"nonzero\" fill-opacity=\"1\" /><path clip-path=\"url(#clip420)\" d=\"M490.315 1348.14 L497.954 1348.14 L497.954 1321.77 L489.643 1323.44 L489.643 1319.18 L497.907 1317.51 L502.583 1317.51 L502.583 1348.14 L510.222 1348.14 L510.222 1352.07 L490.315 1352.07 L490.315 1348.14 Z\" fill=\"#000000\" fill-rule=\"nonzero\" fill-opacity=\"1\" /><polyline clip-path=\"url(#clip420)\" style=\"stroke:#e26f46; stroke-linecap:round; stroke-linejoin:round; stroke-width:4; stroke-opacity:1; fill:none\" points=\"289.884,1386.63 433.805,1386.63 \"/>\n",
       "<path clip-path=\"url(#clip420)\" d=\"M471.634 1406.32 Q469.829 1410.95 468.116 1412.36 Q466.403 1413.78 463.532 1413.78 L460.13 1413.78 L460.13 1410.21 L462.63 1410.21 Q464.389 1410.21 465.361 1409.38 Q466.333 1408.54 467.514 1405.44 L468.278 1403.5 L457.792 1377.99 L462.306 1377.99 L470.407 1398.27 L478.509 1377.99 L483.023 1377.99 L471.634 1406.32 Z\" fill=\"#000000\" fill-rule=\"nonzero\" fill-opacity=\"1\" /><path clip-path=\"url(#clip420)\" d=\"M493.532 1399.98 L509.852 1399.98 L509.852 1403.91 L487.907 1403.91 L487.907 1399.98 Q490.569 1397.22 495.153 1392.6 Q499.759 1387.94 500.94 1386.6 Q503.185 1384.08 504.065 1382.34 Q504.967 1380.58 504.967 1378.89 Q504.967 1376.14 503.023 1374.4 Q501.102 1372.66 498 1372.66 Q495.801 1372.66 493.347 1373.43 Q490.917 1374.19 488.139 1375.74 L488.139 1371.02 Q490.963 1369.89 493.417 1369.31 Q495.87 1368.73 497.907 1368.73 Q503.278 1368.73 506.472 1371.41 Q509.666 1374.1 509.666 1378.59 Q509.666 1380.72 508.856 1382.64 Q508.069 1384.54 505.963 1387.13 Q505.384 1387.8 502.282 1391.02 Q499.18 1394.22 493.532 1399.98 Z\" fill=\"#000000\" fill-rule=\"nonzero\" fill-opacity=\"1\" /></svg>\n"
      ]
     },
     "metadata": {},
     "output_type": "display_data"
    }
   ],
   "source": [
    "x = range(0, 10, length = 128)\n",
    "\n",
    "y = @. sin(x)\n",
    "\n",
    "y_after_processing = collect(map(x -> real(x), ifft(fft(y)))) * 128 # remove any tiny imaginary parts to ensure each element is real (also multiply by 128 for correct normalisation)\n",
    "\n",
    "plot(x, [y, y_after_processing])"
   ]
  },
  {
   "cell_type": "markdown",
   "metadata": {},
   "source": [
    "The following code tests the use of the convolution by convolving an image with a kernel to blur the image."
   ]
  },
  {
   "cell_type": "code",
   "execution_count": 48,
   "metadata": {},
   "outputs": [
    {
     "data": {
      "image/png": "[encoded data removed]",
      "text/html": [
       "<img src=\"data:image/png;base64,iVBORw0KGgoAAAANSUhEUgAAAI4AAABHCAIAAABeeOgjAAAABGdBTUEAALGPC/xhBQAAAAFzUkdCAK7OHOkAAAAgY0hSTQAAeiYAAICEAAD6AAAAgOgAAHUwAADqYAAAOpgAABdwnLpRPAAAAKlJREFUeAHtwUENADAQw7A8imL8ed5wRIq9d0cMRiRGJEYkRiRGJEYkRiRGJEYkRiRGJEYkRiRGJEYkRiRGJEYkRiRGJEYkRiRGJEYkRiRGJEYkRiRGJEYkRiRGJEYkRiRGJEYkRiRGJEYkRiRGJEYkRiRGJEYkRiRGJEYkRiRGJEYkRiRGJEYkRiRGJEYkRiRGJEYkRiRGJEYkRiRGJEYkRiRGJEYkRiQ+FVUDNVwJBtkAAAAASUVORK5C\">"
      ],
      "text/plain": [
       "1×2 mappedarray(RGB{N0f8}, ImageCore.extractchannels, ::Array{N0f8,2}, ::Array{N0f8,2}, ::Array{N0f8,2}) with eltype RGB{N0f8}:\n",
       " RGB{N0f8}(0.102,1.0,1.0)  RGB{N0f8}(0.102,1.0,1.0)"
      ]
     },
     "metadata": {},
     "output_type": "display_data"
    }
   ],
   "source": [
    "image = load(\"image.jpeg\")\n",
    "\n",
    "red_matrix = map(x -> Float64(x.r), image)\n",
    "green_matrix = map(x -> Float64(x.g), image)\n",
    "blue_matrix = map(x -> Float64(x.b), image)\n",
    "\n",
    "kernel = [0.1 0.1 0.1; 0.1 0.5 0.1; 0.1 0.1 0.1]\n",
    "\n",
    "red_convolved = map(x -> abs(real(x)), conv2(kernel, red_matrix))\n",
    "green_convolved = map(x -> abs(real(x)), conv2(kernel, green_matrix))\n",
    "blue_convolved = map(x -> abs(real(x)), conv2(kernel, blue_matrix))\n",
    "\n",
    "red_n0f8 = map(x -> N0f8(x), red_convolved)\n",
    "green_n0f8 = map(x -> N0f8(x), green_convolved)\n",
    "blue_n0f8 = map(x -> N0f8(x), blue_convolved)\n",
    "\n",
    "result = zeros(RGB{N0f8}, size(red_convolved, 1), size(red_convolved, 2))\n",
    "\n",
    "for i in size(red_convolved, 1)\n",
    "    for j in size(red_convolved, 2)\n",
    "        result[i,j] = RGB(N0f8(255/255), N0f8(255/255), N0f8(255/255))\n",
    "    end\n",
    "end\n",
    "\n",
    "colorview(RGB, [N0f8(.1) N0f8(.1)], [N0f8(1) N0f8(1)], [N0f8(1) N0f8(1)])"
   ]
  },
  {
   "cell_type": "code",
   "execution_count": 11,
   "metadata": {},
   "outputs": [
    {
     "data": {
      "text/plain": [
       "8-element Vector{ComplexF64}:\n",
       "                    5.0 - 0.0im\n",
       " 1.7225464241988333e-16 - 2.414213562373095im\n",
       "     0.9999999999999999 - 1.2246467991473532e-16im\n",
       " 1.7225464241988333e-16 - 0.41421356237309503im\n",
       "                    1.0 - 2.4492935982947064e-16im\n",
       " 1.7225464241988333e-16 + 0.4142135623730947im\n",
       "     1.0000000000000002 - 1.2246467991473532e-16im\n",
       " 1.7225464241988333e-16 + 2.414213562373095im"
      ]
     },
     "metadata": {},
     "output_type": "display_data"
    }
   ],
   "source": [
    "# Test the code results\n",
    "\n",
    "kernel = [0.05 0.1 0.05; 0.1 0.5 0.1; 0.05 0.1 0.05]\n",
    "matrix = map(x -> float(x), [\n",
    "    1 1 1 1 1;\n",
    "    1 2 3 2 1;\n",
    "    1 3 5 3 1;\n",
    "    1 2 3 2 1;\n",
    "    1 1 1 1 1;\n",
    "])\n",
    "\n",
    "# display(format_matrix(fft2(pad_matrix_for_fft(matrix))))\n",
    "display(fft([1, 1, 1, 1, 1, 0, 0, 0]))"
   ]
  }
 ],
 "metadata": {
  "kernelspec": {
   "display_name": "Julia 1.9.4",
   "language": "julia",
   "name": "julia-1.9"
  },
  "language_info": {
   "file_extension": ".jl",
   "mimetype": "application/julia",
   "name": "julia",
   "version": "1.10.0"
  }
 },
 "nbformat": 4,
 "nbformat_minor": 2
}
