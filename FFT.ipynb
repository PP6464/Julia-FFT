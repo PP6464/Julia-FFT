{
 "cells": [
  {
   "cell_type": "markdown",
   "metadata": {},
   "source": [
    "# FFT (Fast Fourier Transform)\n",
    "\n",
    "The following pieces of code will define the FFT, which uses many different algorithms to compute the DFT of a list (or a matrix, which shall be discussed later) of data, defined as:\n",
    "\n",
    "$\\begin{align}X_k = \\sum^{N-1}_{n=0}x_n ⋅ e^{-iτkn/N}, \\;N ≜ length(x)\\end{align}$\n",
    "\n",
    "It may also be written as: \n",
    "$\\begin{align}X_k = \\sum^{N-1}_{n=0}x_n ⋅ ω^{kn}, \\; N ≜ length(x),\\;ω ≜ e^{-iτ/N}\\end{align}$\n",
    "\n",
    "depending on the size of the input list, as follows:\n",
    "\n",
    "If $N$ is a power of 2, use a radix 2 FFT, else if $N$ is a prime number, use a rader FFT, else use a bluestein FFT.\n",
    "\n",
    "These algorithms have a big $O$ notation of $O$($ N \\cdot log(N) $), whereas manually computing the DFT has a big $O$ notation of $O$($N^2$). (I.e. as $N$ is scaled by some $k$, the time complexity of FFT algortithms increase by $k \\cdot log(k)$, whereas the time complexity of a DFT increases by $k^2$).\n",
    "\n",
    "This makes using these algorithms much more obvious than manual computation of the DFT, hence why they are so useful to us.\n"
   ]
  },
  {
   "cell_type": "markdown",
   "metadata": {},
   "source": [
    "The following cell defines some starting code"
   ]
  },
  {
   "cell_type": "code",
   "execution_count": 6,
   "metadata": {},
   "outputs": [
    {
     "data": {
      "text/plain": [
       "format_display (generic function with 2 methods)"
      ]
     },
     "execution_count": 6,
     "metadata": {},
     "output_type": "execute_result"
    }
   ],
   "source": [
    "using Primes\n",
    "\n",
    "τ = 2π\n",
    "\n",
    "# Displays a vector after formatting it (makes logs easier to read)\n",
    "function format_display(x::Union{Vector{T}, Matrix{T}})::Nothing where T <: Real\n",
    "    display(map(elem -> round(elem, digits=2), x))\n",
    "end\n",
    "\n",
    "# Displays a matrix after formatting it (makes logs easier to read)\n",
    "function format_display(x::Union{Vector{T}, Matrix{T}})::Nothing where T <: Number\n",
    "    display(map(elem -> round(real(elem), digits=2) + round(imag(x), digits=2)))\n",
    "end"
   ]
  },
  {
   "cell_type": "markdown",
   "metadata": {},
   "source": [
    "## Radix 2 FFT \n",
    "\n",
    "The following code cell defines a radix 2 FFT\n",
    "\n",
    "When N is a power of 2, one can rearrange the list by reversing the indices digits (in base 2). One can then recursively compute the FFT butterfly algorithm to reconstruct the desired FFT.\n",
    "\n",
    "This can be simplified to: \n",
    "\n",
    "$\\begin{align}FFT(x) = FFT(x_e) + (FFT(x_o) \\cdot U^{(N/2)-1}_{n=0}ω^n) \\; ⌢ \\; FFT(x_e) - (FFT(x_o) \\cdot U^{(N/2)-1}_{n=0}ω^n)\\end{align}$\n",
    "\n",
    "where $U_{r=a}^bf(r) = [f(a), f(a+1), ..., f(b-1), f(b)]$ and $⌢$ is concatenation.\n",
    "\n",
    "It is thus clear to see that a radix 2 FFT is recursive, and this allows for a much faster computation than manually computing a DFT.\n",
    "\n",
    "To ensure a StackOverflow error doesn't occur, we need a base case where the recursion should stop, which would be when $N = 1$, because then there will only be one element, and thus $n = 0$, and so the complex exponential component is just 1. This means that $FFT(x) = x$ when $N = 1$.\n",
    "\n",
    "For reasons to be made clear later (see radix 2 IFFT), $ω$ shall be parameterised (to allow different values to be supplied). (By default, it will have a value of nothing, then will be initialised in the function)."
   ]
  },
  {
   "cell_type": "code",
   "execution_count": 7,
   "metadata": {},
   "outputs": [
    {
     "data": {
      "text/plain": [
       "radix2FFT (generic function with 2 methods)"
      ]
     },
     "execution_count": 7,
     "metadata": {},
     "output_type": "execute_result"
    }
   ],
   "source": [
    "function radix2FFT(x::Vector{T}, ω::Union{Complex{A}, Nothing} = nothing)::Vector{ComplexF64} where {T <: Number, A <: Number}\n",
    "    N = length(x)\n",
    "    \n",
    "    if N == 1\n",
    "        return x # One-point time domain spectrum is the same in frequency domain\n",
    "    end\n",
    "\n",
    "    if !ispow2(N)\n",
    "        throw(ArgumentError(\"Input list must have a length of a power of 2\"))\n",
    "    end\n",
    "\n",
    "    # ω ≜ exp(-im*τ/N) (if not already supplied, see IFFT for when different ω used) \n",
    "    if ω === nothing\n",
    "        ω = exp(-im*τ/N)\n",
    "    end    \n",
    "\n",
    "    Xₑ = radix2FFT(x[1:2:end], ω^2) # Get the even indices of x (0-indexed) and recursively FFT (Julia is 1-indexed)\n",
    "    Xₒ = radix2FFT(x[2:2:end], ω^2) # Get the odd indices of x (0-indexed) and recursively FFT (Julia is 1-indexed)\n",
    "\n",
    "    res = zeros(ComplexF64, N)\n",
    "    \n",
    "    for i ∈ 1:N÷2\n",
    "        res[i] = Xₑ[i] + Xₒ[i] * ω^(i-1) \n",
    "        res[i+N÷2] = Xₑ[i] - Xₒ[i] * ω^(i-1)\n",
    "    end\n",
    "\n",
    "    return res\n",
    "end"
   ]
  },
  {
   "cell_type": "markdown",
   "metadata": {},
   "source": [
    "## Radix 2 IFFT\n",
    "The following code cell defines a radix 2 IFFT\n",
    "\n",
    "The Inverse Discrete Fourier Transform is defined to be:\n",
    "\n",
    "$\\begin{align}x_n = \\sum_{k=0}^{N-1}X_k ⋅ ω^{-kn/N}\\end{align}$\n",
    "\n",
    "Notice how this definition is very similar to that of the FFT, just that the exponent is the negative of the exponent in the FFT. This can be leveraged as follows:\n",
    "\n",
    "$\\begin{align}IFFT(X) = FFT(X,\\; ω = e^{iτ/N})\\end{align}$\n",
    "\n",
    "hence why we parameterised $ω$ when writing the code to do the FFT.\n",
    "\n",
    "We can also use this fact when making a rader_IFFT and a bluestein_IFFT (later on)."
   ]
  },
  {
   "cell_type": "code",
   "execution_count": 8,
   "metadata": {},
   "outputs": [
    {
     "data": {
      "text/plain": [
       "radix2IFFT (generic function with 2 methods)"
      ]
     },
     "execution_count": 8,
     "metadata": {},
     "output_type": "execute_result"
    }
   ],
   "source": [
    "function radix2IFFT(x::Vector{T}, ω::Union{Complex{U}, Nothing} = nothing)::Vector{ComplexF64} where {T <: Number, U <: Number}\n",
    "    N = length(x)\n",
    "\n",
    "    if N == 1\n",
    "        return x # One-point time domain spectrum is the same in frequency domain\n",
    "    end\n",
    "\n",
    "    if !ispow2(N)\n",
    "        throw(ArgumentError(\"Input list must have a length of a power of 2\"))\n",
    "    end\n",
    "\n",
    "    # Initialise root of unity to be used\n",
    "    if ω === nothing\n",
    "        ω = exp(τ*im/N)\n",
    "    end\n",
    "\n",
    "    return radix2FFT(x, 1/ω) ./ N # Supply 1/ω because exp(-iτ/N) = 1/exp(iτ/N)\n",
    "end"
   ]
  },
  {
   "cell_type": "markdown",
   "metadata": {},
   "source": [
    "## Rader FFT\n",
    "\n",
    "The Rader FFT can be used on prime length inputs because if $N$ (the length of the inputs is prime), the following is true:\n",
    "\n",
    "$\\begin{align}(\\frac{\\mathbb{Z}}{N\\mathbb{Z}})^{\\ast} = C_{N-1}\\end{align}$ where $C_{N-1}$ is the cyclic group of order $N-1$.\n",
    "\n",
    "Since the DFT at k = 0 is just the sum of the input data, we can rewrite the DFT as the following:\n",
    "\n",
    "$\\begin{align}X_k = x_0 + \\sum_{n=1}^{N-1}x_n ⋅ e^{-iτkn/N}\\end{align}$ where $x_0 ≜ \\sum x$\n",
    "and the indices of n are present in the cyclic group $C_{N-1}$\n",
    "\n",
    "By definition of a cyclic group, the cyclic group $C_{N-1}$ has a generator, and let this be $g$. ($g$ is a primitive root of $N$).\n",
    "\n",
    "(A primitive root, $g$, of a prime number, $p$, is an integer, $g$, such that every integer coprime to p, $a$ (i.e. gcd(p, a) = 1) ≡ $g^z$ (mod p) for some integer $z$).\n",
    "\n",
    "We can rewrite $n$ as: $g^{q_n}\\\\$\n",
    "and $k$ as: $(g^{-1})^{p_k}$ = $g^{-p_k}$\n",
    "\n",
    "$k ↦ p_k$ and $n ↦ q_n$ are bijections, since the order of $C_{N-1}$ is $N-1$ and $n,k\\in\\{0,1,2,...,N-2\\}$\n",
    "\n",
    "Thus we can rewrite the DFT as:\n",
    "\n",
    "$\\begin{align}X_{g^{-p}} = x_0 + \\sum^{N-2}_{q=0}x_{g^q} ⋅ ω^{g^{-(p-q)}}\\end{align}$\n",
    "\n",
    "This is now the cyclic convolution of $u(z) = ω^{g^{-z}}$ and $v(z) = x_{g^z}$\n",
    "\n",
    "and using the convolution theorem, which states that:\n",
    "\n",
    "$\\begin{align}\\mathcal{F}\\{x \\ast y\\} = \\mathcal{F}\\{x\\} ⋅ \\mathcal{F}\\{y\\}\\end{align}$\n",
    "\n",
    "To calculate the cyclic convolution of two lists, A and B, both of length M, pad them with zeros until they have a length L, where:\n",
    "\n",
    "$\\begin{align}L ≜ 2^{⌈log_2(M)⌉}\\end{align}$\n",
    "$\\begin{align}\\mathcal{A} = A\\;(padded\\;with\\;L - M\\;0s)\\end{align}$\n",
    "$\\begin{align}\\mathcal{B} = B\\;(padded\\;with\\;L - M\\;0s)\\end{align}$"
   ]
  },
  {
   "cell_type": "markdown",
   "metadata": {},
   "source": [
    "\n",
    "then we can convolve $\\mathcal{A}$ and $\\mathcal{B}$ using a radix 2 FFT and radix 2 IFFT.\n",
    "\n",
    "To then recover $A \\ast B$, we can use:\n",
    "\n",
    "$\\begin{align}(A \\ast B)_k = (\\mathcal{A} \\ast \\mathcal{B})_k + (\\mathcal{A} \\ast \\mathcal{B})_{k+m}\\end{align}$\n",
    "\n"
   ]
  },
  {
   "cell_type": "code",
   "execution_count": 28,
   "metadata": {},
   "outputs": [
    {
     "data": {
      "text/plain": [
       "rader_FFT (generic function with 2 methods)"
      ]
     },
     "execution_count": 28,
     "metadata": {},
     "output_type": "execute_result"
    }
   ],
   "source": [
    "# Finds the smallest primitive root of m (m must be prime)\n",
    "function primroot(m::Int64)::Int64\n",
    "    if !isprime(m)\n",
    "        error(\"Argument 'm' must be a prime number\")\n",
    "    end\n",
    "\n",
    "    if m == 2\n",
    "        return 1 # 1 is the smallest primitive root of 2\n",
    "    end\n",
    "\n",
    "    P = keys(factor(m-1)) # Get prime factors of m-1\n",
    "    for r = 2:(m-1)\n",
    "        not_found = true\n",
    "        for p in P\n",
    "            if powermod(r, div(m-1, p), m) == 1\n",
    "                not_found = false\n",
    "            end\n",
    "        end\n",
    "\n",
    "        if not_found\n",
    "            return r\n",
    "        end\n",
    "    end\n",
    "\n",
    "    return 0\n",
    "end\n",
    "\n",
    "# Successive powers of g up to m - 1, all mod m\n",
    "function sequence(g::Int64, m::Int64)::Vector{Int64}\n",
    "    return [(g^i)%m for i ∈ 0:m-2]\n",
    "end\n",
    "\n",
    "# Use to generate the entire group (𝐙/p𝐙)* and successive powers (p is prime)\n",
    "function generator(p::Int64)::Tuple{Int64, Vector{Int64}}\n",
    "    if !isprime(p)\n",
    "        throw(ArgumentError(\"p must be prime\"))\n",
    "    end\n",
    "\n",
    "    return primroot(p), sequence(primroot(p), p)\n",
    "end\n",
    "\n",
    "# FFT convolution of u and v, where u and v are of the same length (uses padding)\n",
    "function convolve(u::Vector{T}, v::Vector{U})::Vector{Number} where {T <: Number, U <: Number}\n",
    "    if length(u) != length(v)\n",
    "        throw(ArgumentError(\"Input vectors must be of the same length\"))\n",
    "    end\n",
    "\n",
    "    N = length(u)\n",
    "    L = 2^ceil(log2(2N+1))\n",
    "    ωₗ = exp(τ*im/L)\n",
    "\n",
    "    fft_uₗ = radix2FFT(vcat(u, [0 for _ ∈ 1:L-N]), ωₗ)\n",
    "    fft_vₗ = radix2FFT(vcat(v, [0 for _ ∈ 1:L-N]), ωₗ)\n",
    "\n",
    "    # Convolution theorem: 𝓕{u(x) ∗ v(x)} = 𝓕{u(x)} . 𝓕{v(x)}\n",
    "    uₗvₗ = radix2IFFT(fft_uₗ .* fft_vₗ)\n",
    "\n",
    "    return [uₗvₗ[i] + uₗvₗ[i + N] for i in 1:N]\n",
    "end\n",
    "\n",
    "function rader_FFT(x::Vector{T}, ω::Union{Complex{A}, Nothing} = nothing)::Vector{ComplexF64} where {T <: Number, A <: Number}\n",
    "    N = length(x)\n",
    "\n",
    "    if !isprime(N)\n",
    "        throw(ArgumentError(\"List must have a prime length\"))\n",
    "    end\n",
    "\n",
    "    # ω ≜ exp(-im*τ/N) (if not already supplied, see IFFT for when different ω used) \n",
    "    if ω === nothing\n",
    "        ω = exp(-τ*im/N)\n",
    "    end\n",
    "\n",
    "    g, g_seq = generator(N) # Generate g and its successive powers\n",
    "    g⁻¹ = (g^(N-2))%N # Mulitplicative inverse of g (mod N)\n",
    "    g⁻¹_seq = sequence(g⁻¹, N) # Successive powers of g⁻¹\n",
    "\n",
    "    # u(z) = ω^g⁻ᶻ\n",
    "    u = [ω^gₙ for gₙ ∈ g⁻¹_seq]\n",
    "\n",
    "    # v(z) = x[gᶻ]\n",
    "    v = [x[gᶻ+1] for gᶻ ∈ g_seq]\n",
    "\n",
    "    uv = convolve(u, v)\n",
    "\n",
    "    fft = zeros(ComplexF64, N)\n",
    "    fft[1] = sum(x) # FFT[0] = ∑ᵢ xᵢ (Julia is 1-indexed)\n",
    "\n",
    "    # FFT[g⁻ʲ] = a₀ + (u * v)ⱼ (Julia is 1-indexed)\n",
    "    for i in 1:N-1\n",
    "        fft[g⁻¹_seq[i] + 1] = x[1] + uv[i]\n",
    "    end\n",
    "\n",
    "    return fft\n",
    "end"
   ]
  },
  {
   "cell_type": "markdown",
   "metadata": {},
   "source": [
    "# Rader IFFT\n",
    "The following code cell defines a rader IFFT.\n",
    "\n",
    "From the reasoning presented for the radix 2 IFFT, we know that:\n",
    "\n",
    "$IFFT(X) = FFT(X, \\; ω = e^{iτ/N})$\n",
    "\n",
    "and here we shall leverage this fact to make a rader IFFT"
   ]
  },
  {
   "cell_type": "code",
   "execution_count": 10,
   "metadata": {},
   "outputs": [
    {
     "data": {
      "text/plain": [
       "rader_IFFT (generic function with 2 methods)"
      ]
     },
     "execution_count": 10,
     "metadata": {},
     "output_type": "execute_result"
    }
   ],
   "source": [
    "function rader_IFFT(x::Vector{T}, ω::Union{Complex{U}, Nothing} = nothing)::Vector{ComplexF64} where {T <: Number, U <: Number}\n",
    "    N = length(x)\n",
    "\n",
    "    if !isprime(N)\n",
    "        throw(ArgumentError(\"Input list must have a prime length\"))\n",
    "    end\n",
    "\n",
    "    # Initialise ω to principal Nth root of unity if not supplied\n",
    "    if ω === nothing\n",
    "        ω = exp(τ*im/N)\n",
    "    end\n",
    "\n",
    "    return rader_FFT(x, 1/ω) ./ N # Supply 1/ω because exp(-iτ/N) = 1/exp(iτ/N)\n",
    "end"
   ]
  },
  {
   "cell_type": "markdown",
   "metadata": {},
   "source": [
    "## Bluestein FFT\n",
    "The following code cell defines a bluestein FFT, which is used when $N$ is not a power of 2 or prime.\n",
    "\n",
    "The Chirp Z Transform (CZT) is a generalisation of the DFT which samples on spiral arcs in the Z-plane (complex input plane, similar to k in the DFT).\n",
    "\n",
    "The CZT can be defined as (for some given A, W and M):\n",
    "\n",
    "$X_k = \\sum_{n=0}^{N-1}x_nz_k^{-n}$, where $z_k = A ⋅ W^{-k},\\;k=0,1,...,M-1$\n",
    "\n",
    "Returning to the definition of the DFT:\n",
    "\n",
    "$\\begin{align}X_k = \\sum^{N-1}_{n=0}x_n ⋅ ω^{kn}\\end{align}$\n",
    "\n",
    "We can replace kn using the following identity:\n",
    "\n",
    "$\\begin{align}kn ≡ \\frac{k^2 + n^2 - (k - n)^2}{2}\\end{align}$\n",
    "\n",
    "as such:\n",
    "\n",
    "$\\begin{align}X_k = \\sum^{N-1}_{n=0}x_n ⋅ ω^{\\frac{k^2 + n^2 - (k - n)^2}{2}}\\end{align}$\n",
    "\n",
    "$\\begin{align}X_k = \\sum^{N-1}_{n=0}x_n ⋅ ω^{n^2/2} ⋅ ω^{k^2/2} ⋅ ω^{-(k-n)^2/2}\\end{align}$\n",
    "\n",
    "$\\begin{align}X_k = ω^{k^2/2} ⋅ \\sum^{N-1}_{n=0}(x_n ⋅ ω^{n^2/2}) ⋅ ω^{-(k-n)^2/2}\\end{align}$\n",
    "\n",
    "This is now just the convolution of the sequences:\n",
    "\n",
    "$\\begin{align}u(z) = x_z ⋅ ω^{n^2/2}\\end{align}$\n",
    "\n",
    "$\\begin{align}v(z) = ω^{-n^2/2}\\end{align}$\n",
    "\n",
    "but one must consider the fact that the result of the convolution will need to be multiplied by $ω^{k^2/2}$ to get the desired DFT, and so one must multiply by that in the end. Thus we can rewrite the DFT as:\n",
    "\n",
    "$\\begin{align}X_k = ω^{k^2/2} ⋅ (\\sum^{N-1}_{n=0}u(n) ⋅ v(k-n))\\end{align}$\n",
    "\n",
    "$\\begin{align}X_k = ω^{k^2/2} ⋅ (u ∗ v)_k\\end{align}$\n",
    "\n",
    "Using the convolution theorem (stated previously):\n",
    "\n",
    "$\\begin{align}X_k = ω^{k^2/2} ⋅ (u ∗ v)_k\\end{align}$\n",
    "\n",
    "$\\begin{align}X_k = ω^{k^2/2} ⋅ IFFT(FFT(u) ⋅ FFT(v))\\end{align}$"
   ]
  },
  {
   "cell_type": "code",
   "execution_count": 16,
   "metadata": {},
   "outputs": [
    {
     "data": {
      "text/plain": [
       "bluestein_FFT (generic function with 2 methods)"
      ]
     },
     "execution_count": 16,
     "metadata": {},
     "output_type": "execute_result"
    }
   ],
   "source": [
    "function bluestein_FFT(x::Vector{T}, ω::Union{Complex{A}, Nothing} = nothing) where {T <: Number, A <: Number}\n",
    "    N = length(x)\n",
    "\n",
    "    if N == 1\n",
    "        return x\n",
    "    end\n",
    "\n",
    "    # Initialise ω to exp(iτ/N) if not supplied\n",
    "    # Supply different ω for IFFT\n",
    "    if ω === nothing \n",
    "        ω = exp(τ*im/N)\n",
    "    end\n",
    "\n",
    "    # Make lists u(n) and v(n)\n",
    "    u = [x[i+1] * ω^(-(i^2)/2) for i ∈ 0:N-1]\n",
    "    v = [ω^((i^2)/2) for i ∈ 0:N-1]\n",
    "    v_star = [ω^(-(i^2)/2) for i ∈ 0:N-1]\n",
    "\n",
    "    L = 2^ceil(log2(2*N+1))\n",
    "    ωₗ = exp(log(ω) * N/L) # exp(τ*im/L) # Calculate root of unity required\n",
    "\n",
    "    uₗ = vcat(u, [0 for _ ∈ 1:L-N]) # Pad u(n)\n",
    "\n",
    "    # Pad v(n) and shift\n",
    "    aux = v[2:end]\n",
    "    reverse!(aux)\n",
    "    vₗ = vcat(v, [0 for i ∈ 1:L - 2*N + 1], aux)\n",
    "\n",
    "    # FFT convolve\n",
    "    fft_uₗ = radix2FFT(uₗ, ωₗ)\n",
    "    fft_vₗ = radix2FFT(vₗ, ωₗ)\n",
    "\n",
    "    uvₗ = fft_uₗ .* fft_vₗ\n",
    "\n",
    "    iftₗ = radix2IFFT(uvₗ, ωₗ)\n",
    "\n",
    "    ift = iftₗ[begin:N]\n",
    "\n",
    "    # Multiply the IFT by v_star to get result\n",
    "    return v_star .* ift\n",
    "end"
   ]
  },
  {
   "cell_type": "markdown",
   "metadata": {},
   "source": [
    "# Bluestein IFFT\n",
    "The following code cell defines a bluestein IFFT.\n",
    "\n",
    "From the reasoning presented for the radix 2 IFFT, we know that:\n",
    "\n",
    "$\\begin{align}IFFT(X) = FFT(X, \\; ω = e^{iτ/N})\\end{align}$\n",
    "\n",
    "and here we shall leverage this fact to make a bluestein IFFT."
   ]
  },
  {
   "cell_type": "code",
   "execution_count": 18,
   "metadata": {},
   "outputs": [
    {
     "data": {
      "text/plain": [
       "bluestein_IFFT (generic function with 2 methods)"
      ]
     },
     "execution_count": 18,
     "metadata": {},
     "output_type": "execute_result"
    }
   ],
   "source": [
    "function bluestein_IFFT(x::Vector{T}, ω::Union{Complex{U}, Nothing} = nothing) where {T <: Number, U <: Number}\n",
    "    N = length(x)\n",
    "\n",
    "    if N == 1\n",
    "        return x\n",
    "    end\n",
    "\n",
    "    if ω === nothing\n",
    "        ω = exp(τ*im/N)\n",
    "    end\n",
    "\n",
    "    return bluestein_FFT(x, 1/ω) ./ N\n",
    "end"
   ]
  },
  {
   "cell_type": "markdown",
   "metadata": {},
   "source": [
    "## General FFT and IFFT\n",
    "Now that we have made special functions to compute the FFT depending on the length of then input, to make the code simpler to use, we can define a single fft and a single ifft function, which will automatically determine the correct type of FFT to use."
   ]
  },
  {
   "cell_type": "code",
   "execution_count": 30,
   "metadata": {},
   "outputs": [
    {
     "data": {
      "text/plain": [
       "ifft (generic function with 2 methods)"
      ]
     },
     "execution_count": 30,
     "metadata": {},
     "output_type": "execute_result"
    }
   ],
   "source": [
    "function fft(x::Vector{T}, ω::Union{Complex{U}, Nothing} = nothing) where {T <: Number, U <: Number}\n",
    "    N = length(x)\n",
    "\n",
    "    # Initialise ω to exp(iτ/N) if not supplied\n",
    "    # See IFFT for when different ω supplied\n",
    "    if ω === nothing\n",
    "        ω = exp(im*τ/N)\n",
    "    end\n",
    "\n",
    "    if ispow2(N)\n",
    "        return radix2FFT(x, ω)\n",
    "    elseif isprime(N)\n",
    "        return rader_FFT(x, 1/ω) # Rader FFT uses ω = exp(-iτ/N)\n",
    "    else\n",
    "        return bluestein_FFT(x, ω)\n",
    "    end\n",
    "end\n",
    "\n",
    "function ifft(x::Vector{T}, ω::Union{Complex{U}, Nothing} = nothing) where {T <: Number, U <: Number}\n",
    "    N = length(x)\n",
    "\n",
    "    # Initialise ω to principal Nth root of unity if not supplied\n",
    "    if ω === nothing\n",
    "        ω = exp(τ*im/N)\n",
    "    end\n",
    "\n",
    "    return fft(x, 1/ω) ./ N\n",
    "end"
   ]
  },
  {
   "cell_type": "markdown",
   "metadata": {},
   "source": [
    "# 2D FFT/IFFT\n",
    "The first cell defines functions to convert a matrix into a vector of columns, a vector of rows and vice versa.\n",
    "\n",
    "The FFT and IFFT can be applied to matrices as well as lists. To apply the FFT to a matrix, you apply the 1D FFT to each column, and then construct a matrix using the FFT of the columns. We then apply the FFT to the rows of the matrix before then returning that as the result.\n",
    "\n",
    "To do the IFFT, one simply applies the IFFT to the columns, then to the rows of the resultant matrix, before then returning that as the result."
   ]
  },
  {
   "cell_type": "code",
   "execution_count": 32,
   "metadata": {},
   "outputs": [
    {
     "data": {
      "text/plain": [
       "convert_to_matrix (generic function with 2 methods)"
      ]
     },
     "execution_count": 32,
     "metadata": {},
     "output_type": "execute_result"
    }
   ],
   "source": [
    "# Convert Matrix{T} into Vector{Vector{T}} (a vector of the columns of the input matrix)\n",
    "function columns(x::Matrix{T})::Vector{Vector{T}} where T <: Any\n",
    "    return [x[begin:end, i] for i ∈ 1:size(x)[2]]\n",
    "end\n",
    "\n",
    "# Convert Matrix{T} into Vector{Vector{T}} (a vector of the rows of the input matrix)\n",
    "function rows(x::Matrix{T})::Vector{Vector{T}} where T <: Any\n",
    "    return [x[i, begin:end] for i ∈ 1:size(x)[1]]\n",
    "end\n",
    "\n",
    "# Converts Vector{Vector{T}} into Matrix{T}. Columns specifies whether the input is a vector of columns (true) or a vector of rows (false)\n",
    "function convert_to_matrix(x::Vector{Vector{T}}, columns::Bool = false)::Matrix{T} where T <: Any\n",
    "    if columns\n",
    "        res = zeros(T, length(x[1]), length(x))\n",
    "        for i ∈ 1:length(x)\n",
    "            res[begin:end, i] = x[i]\n",
    "        end\n",
    "        return res\n",
    "    else\n",
    "        res = zeros(T, length(x), length(x[1]))\n",
    "        for i ∈ 1:length(x)\n",
    "            res[i, begin:end] = x[i]\n",
    "        end\n",
    "        return res\n",
    "    end\n",
    "end"
   ]
  },
  {
   "cell_type": "code",
   "execution_count": 35,
   "metadata": {},
   "outputs": [
    {
     "data": {
      "text/plain": [
       "2×3 Matrix{ComplexF64}:\n",
       " 1.0-5.92119e-16im  2.0+1.4803e-16im   3.0-6.12719e-17im\n",
       " 4.0-1.11022e-15im  5.0+4.44089e-16im  6.0+1.90116e-16im"
      ]
     },
     "metadata": {},
     "output_type": "display_data"
    }
   ],
   "source": [
    "function fft2(x::Matrix{T}, ω::Union{Complex{A}, Nothing} = nothing)::Matrix{ComplexF64} where {T <: Number, A <: Number}\n",
    "    fft_columns = [fft(i, ω) for i ∈ columns(x)]\n",
    "    fft_rows = [fft(i, ω) for i ∈ rows(convert_to_matrix(fft_columns, true))]\n",
    "    return convert_to_matrix(fft_rows)\n",
    "end\n",
    "\n",
    "function ifft2(x::Matrix{T}, ω::Union{Complex{A}, Nothing} = nothing)::Matrix{ComplexF64} where {T <: Number, A <: Number}\n",
    "    ifft_columns = [ifft(i, ω) for i ∈ columns(x)]\n",
    "    ifft_rows = [ifft(i, ω) for i ∈ rows(convert_to_matrix(ifft_columns, true))]\n",
    "    return convert_to_matrix(ifft_rows)\n",
    "end"
   ]
  },
  {
   "cell_type": "markdown",
   "metadata": {},
   "source": [
    "# Using the FFT\n",
    "\n",
    "The FFT can be used for many applications, both due to the utility of being able to analyse measurements about waves, and being able to compute convolutions much faster than otherwise, due to the convolution theorem, which I shall restate:\n",
    "\n",
    "$\\begin{align}\\mathcal{F}\\{f(x) \\ast g(x)\\} = \\mathcal{F}\\{f(x)\\} ⋅ \\mathcal{F}\\{g(x)\\}\\end{align}$\n",
    "\n",
    "which is then very useful for computing convolutions, which themselves are used in many different fields of mathematics and computer science, e.g. Convolutional Neural Networks, image processing, etc.\n",
    "\n",
    "For now, we shall make methods to convolve matrices and lists, and demonstrate a simple use of convolution: to blur an image."
   ]
  },
  {
   "cell_type": "markdown",
   "metadata": {},
   "source": [
    "## Convolution\n",
    "The following code cell defines code for a 1D and a 2D convolution respectively (using the corresponding FFT and IFFT implementations)."
   ]
  },
  {
   "cell_type": "code",
   "execution_count": null,
   "metadata": {},
   "outputs": [],
   "source": [
    "function conv(x::Vector{T}, y::Vector{U})::Vector{ComplexF64} where {T <: Number, U <: Number}\n",
    "    return ifft(fft(x) .* fft(y))\n",
    "end\n",
    "\n",
    "function conv2(x::Matrix{T}, y::Vector{U})::Matrix{ComplexF64} where {T <: Number, U <: Number}\n",
    "    return ifft2(fft2(x) .* fft2(y))\n",
    "end"
   ]
  },
  {
   "cell_type": "markdown",
   "metadata": {},
   "source": [
    "## Blurring an image\n",
    "An image can be blurred by convolving it with a certain kernel (which is just a matrix), where the centre is focused more than the edges. We shall use the following kernel:\n",
    "\n",
    "$\\begin{align}k =\n",
    "\\begin{bmatrix}\n",
    "0.05 & 0.1 & 0.05\\\\\n",
    "0.1 & 0.5 & 0.1\\\\\n",
    "0.05 & 0.1 & 0.05\\\\\n",
    "\\end{bmatrix}\\end{align}\n",
    "$\n",
    "\n",
    "and we will use \"image.jpeg\".\n",
    "\n",
    "An image can be thought of as 3 matrices, one for red, one for green and one for blue. We can simply convolve the kernel with each colour channel matrix, before then recombining the resultant matrices to form an image."
   ]
  },
  {
   "cell_type": "code",
   "execution_count": 7,
   "metadata": {},
   "outputs": [
    {
     "ename": "LoadError",
     "evalue": "MethodError: no method matching (::var\"#51#52\")(::Tuple{Int64, Float64})\n\n\u001b[0mClosest candidates are:\n\u001b[0m  (::var\"#51#52\")(::Any, \u001b[91m::Any\u001b[39m)\n\u001b[0m\u001b[90m   @\u001b[39m \u001b[36mMain\u001b[39m \u001b[90m\u001b[4mIn[7]:14\u001b[24m\u001b[39m\n",
     "output_type": "error",
     "traceback": [
      "MethodError: no method matching (::var\"#51#52\")(::Tuple{Int64, Float64})\n\n\u001b[0mClosest candidates are:\n\u001b[0m  (::var\"#51#52\")(::Any, \u001b[91m::Any\u001b[39m)\n\u001b[0m\u001b[90m   @\u001b[39m \u001b[36mMain\u001b[39m \u001b[90m\u001b[4mIn[7]:14\u001b[24m\u001b[39m\n",
      "",
      "Stacktrace:",
      " [1] iterate",
      "   @ .\\generator.jl:47 [inlined]",
      " [2] _collect",
      "   @ .\\array.jl:802 [inlined]",
      " [3] collect_similar(cont::Matrix{Tuple{Int64, Float64}}, itr::Base.Generator{Matrix{Tuple{Int64, Float64}}, var\"#51#52\"})",
      "   @ Base .\\array.jl:711",
      " [4] map(f::Function, A::Matrix{Tuple{Int64, Float64}})",
      "   @ Base .\\abstractarray.jl:3263",
      " [5] top-level scope",
      "   @ In[7]:14"
     ]
    }
   ],
   "source": [
    "using Images, FileIO\n",
    "\n",
    "img = load(\"image.jpeg\")\n",
    "kernel = [0.05 0.1 0.05;0.1 0.5 0.1;0.05 0.1 0.05]\n",
    "\n",
    "red_mat = map(x -> Float64(x), channelview(img)[1, begin:end, begin:end])\n",
    "green_mat = map(x -> Float64(x), channelview(img)[2, begin:end, begin:end])\n",
    "blue_mat = map(x -> Float64(x), channelview(img)[3, begin:end, begin:end])\n",
    "\n",
    "# new_red_mat = conv2(kernel, red_mat)\n",
    "# new_green_mat = conv2(kernel, green_mat)\n",
    "# new_blue_mat = conv2(kernel, blue_mat)\n",
    "\n",
    "rgb_mat = map((i, x) -> RGB(red_mat[i], green_mat[i], blue_mat[i]), collect(enumerate(red_mat)))"
   ]
  }
 ],
 "metadata": {
  "kernelspec": {
   "display_name": "Julia 1.9.4",
   "language": "julia",
   "name": "julia-1.9"
  },
  "language_info": {
   "file_extension": ".jl",
   "mimetype": "application/julia",
   "name": "julia",
   "version": "1.9.4"
  }
 },
 "nbformat": 4,
 "nbformat_minor": 2
}
