{
 "cells": [
  {
   "cell_type": "markdown",
   "metadata": {},
   "source": [
    "# FFT (Fast Fourier Transform)\n",
    "\n",
    "The following pieces of code will define the FFT, which uses many different algorithms to compute the DFT of a list (or a matrix, which shall be discussed later) of data, defined as:\n",
    "\n",
    "$X_k = \\sum^{N-1}_{n=0}x_n ⋅ e^{-iτkn/N}, \\;N ≜ $ size of $x$\n",
    "\n",
    "(It may also be written as: \n",
    "$X_k = \\sum^{N-1}_{n=0}x_n ⋅ ω^{kn}, \\; N$ ≜ size of $x$, $ω$ ≜ $e^{-iτ/N}$\n",
    ")\n",
    "\n",
    "depending on the size of the input list, as follows:\n",
    "\n",
    "If $N$ is a power of 2, use a radix 2 FFT, else if $N$ is a prime number, use a rader FFT, else use a bluestein FFT.\n",
    "\n",
    "These algorithms have a big $O$ notation of $O$($ N \\cdot log(N) $), whereas manually computing the DFT has a big $O$ notation of $O$($N^2$). (I.e. as $N$ is scaled by some $k$, the time complexity of FFT algortithms increase by $k \\cdot log(k)$, whereas the time complexity of a DFT increases by $k^2$).\n",
    "\n",
    "This makes using these algorithms much more obvious than manual computation of the DFT, hence why they are so useful to us.\n"
   ]
  },
  {
   "cell_type": "markdown",
   "metadata": {},
   "source": [
    "The following cell defines some starting code"
   ]
  },
  {
   "cell_type": "code",
   "execution_count": 3,
   "metadata": {},
   "outputs": [
    {
     "data": {
      "text/plain": [
       "format_display (generic function with 2 methods)"
      ]
     },
     "metadata": {},
     "output_type": "display_data"
    }
   ],
   "source": [
    "using Primes\n",
    "\n",
    "τ = 2π\n",
    "\n",
    "# Displays a vector after formatting it (makes logs easier to read)\n",
    "function format_display(x::Union{Vector{T}, Matrix{T}})::Nothing where T <: Real\n",
    "    display(map(elem -> round(elem, digits=2), x))\n",
    "end\n",
    "\n",
    "# Displays a matrix after formatting it (makes logs easier to read)\n",
    "function format_display(x::Union{Vector{T}, Matrix{T}})::Nothing where T <: Number\n",
    "    display(map(elem -> round(real(elem), digits=2) + round(imag(x), digits=2)))\n",
    "end"
   ]
  },
  {
   "cell_type": "markdown",
   "metadata": {},
   "source": [
    "## Radix 2 FFT \n",
    "\n",
    "The following code cell defines a radix 2 FFT\n",
    "\n",
    "When N is a power of 2, one can rearrange the list by reversing the indices digits (in base 2). One can then recursively compute the FFT butterfly algorithm to reconstruct the desired FFT.\n",
    "\n",
    "This can be simplified to: \n",
    "\n",
    "$FFT(x) = FFT(x_e) + (FFT(x_o) \\cdot U^{(N/2)-1}_{n=0}ω^n) \\; ⌢ \\; FFT(x_e) - (FFT(x_o) \\cdot U^{(N/2)-1}_{n=0}ω^n)$\n",
    "\n",
    "where $U_{r=a}^bf(r) = [f(a), f(a+1), ..., f(b-1), f(b)]$ and $⌢$ is concatenation.\n",
    "\n",
    "It is thus clear to see that a radix 2 FFT is recursive, and this allows for a much faster computation than manually computing a DFT.\n",
    "\n",
    "For reasons to be made clear later (see radix 2 IFFT), ω shall be parameterised (to allow different values to be supplied). (By default, it will have a value of nothing, then will be initialised in the function)."
   ]
  },
  {
   "cell_type": "code",
   "execution_count": null,
   "metadata": {},
   "outputs": [],
   "source": [
    "function radix2FFT(x::Vector{T}, ω::Union{ComplexF64, Nothing} = nothing)::Vector{ComplexF64} where T <: Number\n",
    "    N = length(x)\n",
    "    \n",
    "    # ω ≜ exp(-im*τ/N) (if not already supplied) \n",
    "    if ω === nothing\n",
    "        ω = exp(-im*τ/N)\n",
    "    end    \n",
    "\n",
    "    Xₑ = radix2FFT(x[1:2:end], ω^2) # Get the even indices of x (0-indexed) and recursively FFT (Julia is 1-indexed)\n",
    "    Xₒ = radix2FFT(x[2:2:end], ω^2) # Get the odd indices of x (0-indexed) and recursively FFT (Julia is 1-indexed)\n",
    "\n",
    "    res = zeros(ComplexF64, N)\n",
    "    \n",
    "    for i ∈ 1:N÷2\n",
    "        res[i] = Xₑ[i] + Xₒ[i] * ω^(i-1) \n",
    "        res[i+N÷2] = Xₑ[i] - Xₒ[i] * ω^(i-1)\n",
    "    end\n",
    "\n",
    "    return res\n",
    "end"
   ]
  }
 ],
 "metadata": {
  "kernelspec": {
   "display_name": "Julia 1.9.4",
   "language": "julia",
   "name": "julia-1.9"
  },
  "language_info": {
   "file_extension": ".jl",
   "mimetype": "application/julia",
   "name": "julia",
   "version": "1.10.0"
  }
 },
 "nbformat": 4,
 "nbformat_minor": 2
}
